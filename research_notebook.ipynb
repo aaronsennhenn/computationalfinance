{
 "cells": [
  {
   "cell_type": "code",
   "execution_count": 2,
   "id": "0afe1851-a2d1-4467-8bf0-06fa0d0b4738",
   "metadata": {},
   "outputs": [],
   "source": [
    "from module import *\n",
    "import numpy as np\n",
    "import pandas as pd\n",
    "import yfinance as yf"
   ]
  },
  {
   "cell_type": "markdown",
   "id": "e0b7ba7a-8ef3-4d10-a398-56b69a519ec5",
   "metadata": {},
   "source": [
    "**Optmize MA Parameters with grid search**"
   ]
  },
  {
   "cell_type": "code",
   "execution_count": null,
   "id": "c89867bb-c9a4-4139-bc36-a4aa4a14c739",
   "metadata": {},
   "outputs": [],
   "source": [
    "#Download data"
   ]
  },
  {
   "cell_type": "code",
   "execution_count": 5,
   "id": "4362ef2f-4313-4812-94f8-09d8b7a950c4",
   "metadata": {},
   "outputs": [
    {
     "ename": "NameError",
     "evalue": "name 'df_prices' is not defined",
     "output_type": "error",
     "traceback": [
      "\u001b[1;31m---------------------------------------------------------------------------\u001b[0m",
      "\u001b[1;31mNameError\u001b[0m                                 Traceback (most recent call last)",
      "Cell \u001b[1;32mIn[5], line 6\u001b[0m\n\u001b[0;32m      3\u001b[0m long_range \u001b[38;5;241m=\u001b[39m \u001b[38;5;28mrange\u001b[39m(\u001b[38;5;241m25\u001b[39m, \u001b[38;5;241m250\u001b[39m, \u001b[38;5;241m25\u001b[39m) \n\u001b[0;32m      5\u001b[0m \u001b[38;5;66;03m#Run Gridsearch\u001b[39;00m\n\u001b[1;32m----> 6\u001b[0m best_params, best_return, best_position, combinations_df  \u001b[38;5;241m=\u001b[39m gridsearch_best_ma_params(df_prices[\u001b[38;5;124m'\u001b[39m\u001b[38;5;124mAAPL\u001b[39m\u001b[38;5;124m'\u001b[39m], df_price_changes[\u001b[38;5;124m'\u001b[39m\u001b[38;5;124mAAPL\u001b[39m\u001b[38;5;124m'\u001b[39m], short_range, long_range)\n\u001b[0;32m      8\u001b[0m \u001b[38;5;66;03m#Benchmark the result\u001b[39;00m\n\u001b[0;32m      9\u001b[0m return_buy_and_hold \u001b[38;5;241m=\u001b[39m buy_and_hold_return(df_prices)\n",
      "\u001b[1;31mNameError\u001b[0m: name 'df_prices' is not defined"
     ]
    }
   ],
   "source": [
    "#Define grid\n",
    "short_range = range(10, 100, 10)\n",
    "long_range = range(25, 250, 25) \n",
    "\n",
    "#Run Gridsearch\n",
    "best_params, best_return, best_position, combinations_df  = gridsearch_best_ma_params(df_prices['AAPL'], df_price_changes['AAPL'], short_range, long_range)\n",
    "\n",
    "#Benchmark the result\n",
    "return_buy_and_hold = buy_and_hold_return(df_prices)\n",
    "return_sanity_check = random_trading_return(df_prices['AAPL'], df_price_changes['AAPL'])"
   ]
  },
  {
   "cell_type": "code",
   "execution_count": null,
   "id": "09a79121-432b-452b-a00d-52f21d8100cf",
   "metadata": {},
   "outputs": [],
   "source": [
    "print(best_return)\n",
    "print(buy_and_hold)\n"
   ]
  }
 ],
 "metadata": {
  "kernelspec": {
   "display_name": "Python 3 (ipykernel)",
   "language": "python",
   "name": "python3"
  },
  "language_info": {
   "codemirror_mode": {
    "name": "ipython",
    "version": 3
   },
   "file_extension": ".py",
   "mimetype": "text/x-python",
   "name": "python",
   "nbconvert_exporter": "python",
   "pygments_lexer": "ipython3",
   "version": "3.11.7"
  }
 },
 "nbformat": 4,
 "nbformat_minor": 5
}
