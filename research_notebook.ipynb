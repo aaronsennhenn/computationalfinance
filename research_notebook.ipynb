{
 "cells": [
  {
   "cell_type": "markdown",
   "id": "434b0ea7-1464-403e-85b2-359723ed488e",
   "metadata": {},
   "source": [
    "### Preparation"
   ]
  },
  {
   "cell_type": "code",
   "execution_count": 1,
   "id": "c195851a-9665-4f7c-863e-05c9b7407307",
   "metadata": {},
   "outputs": [],
   "source": [
    "#Load libraries\n",
    "import yfinance as yf\n",
    "import pandas as pd\n",
    "import numpy as np\n",
    "import matplotlib.pyplot as plt\n",
    "from module import * "
   ]
  },
  {
   "cell_type": "code",
   "execution_count": 2,
   "id": "c3113c18-6db8-4dda-86f5-8dc2735e29ed",
   "metadata": {},
   "outputs": [
    {
     "name": "stderr",
     "output_type": "stream",
     "text": [
      "[*********************100%***********************]  3 of 3 completed\n"
     ]
    }
   ],
   "source": [
    "#Load data in\n",
    "tickers = [\"TSLA\", \"AAPL\", \"AMD\"]\n",
    "start = \"2010-01-01\"\n",
    "end = \"2024-12-31\"\n",
    "\n",
    "df_prices, df_changes = download_stock_price_data(tickers, start, end)"
   ]
  },
  {
   "cell_type": "markdown",
   "id": "bad2fab7-d4f4-4c96-a50a-f198dab8e4b8",
   "metadata": {},
   "source": [
    "### Signal 1: Moving Average Crossover with MACD Indicator"
   ]
  },
  {
   "cell_type": "code",
   "execution_count": 5,
   "id": "dd7fa149-07d3-4409-b26c-dc3de6bf3758",
   "metadata": {},
   "outputs": [],
   "source": [
    "def signal01(prices, short_ma, long_ma, short_macd, long_macd, signal_window_macd):\n",
    "\n",
    "    #MA Signal\n",
    "    ma_sig, _ = ma_signal(prices, short_ma, long_ma)\n",
    "\n",
    "    #MACD Signal\n",
    "    macd_sig, _ = signal_macd(prices, short_macd, long_macd, signal_window_macd)\n",
    "\n",
    "    #Combine Signals\n",
    "    combined = combine_two_subsignals(ma_sig, macd_sig)\n",
    "\n",
    "    #Return combined signal dataframe\n",
    "    signals = pd.DataFrame(index=prices.index)\n",
    "    signals['signal'] = combined\n",
    "    signals['position_change'] = signals['signal'].diff().fillna(0)\n",
    "\n",
    "    return signals"
   ]
  },
  {
   "cell_type": "code",
   "execution_count": 7,
   "id": "ddcf4e04-f2ad-46ca-aa35-b3a7a4655564",
   "metadata": {},
   "outputs": [],
   "source": [
    "signals = signal01(df_prices['AAPL'], 50, 100, 12, 16, 9)"
   ]
  },
  {
   "cell_type": "code",
   "execution_count": null,
   "id": "c08e5c0f-8030-499c-b8ae-a2aa6a2d4f38",
   "metadata": {},
   "outputs": [],
   "source": [
    "with pd.option_context('display.max_rows', None, 'display.max_columns', None):\n",
    "    print(signals)"
   ]
  },
  {
   "cell_type": "markdown",
   "id": "e02083bb-7d65-490d-b4c6-0cdbd554f6dd",
   "metadata": {},
   "source": [
    "### Signal 2: RSI with Bollinger Bands"
   ]
  },
  {
   "cell_type": "code",
   "execution_count": null,
   "id": "9dafdda6-80fa-47f1-8970-204e672f8f4c",
   "metadata": {},
   "outputs": [],
   "source": []
  },
  {
   "cell_type": "markdown",
   "id": "58b427f5-9b0b-42cb-b0a4-f63410f4a144",
   "metadata": {},
   "source": [
    "### Signal 3: Donchian Channel with ADX"
   ]
  },
  {
   "cell_type": "code",
   "execution_count": null,
   "id": "3f624729-99bc-4440-8a15-29c094507ff1",
   "metadata": {},
   "outputs": [],
   "source": []
  }
 ],
 "metadata": {
  "kernelspec": {
   "display_name": "Python 3 (ipykernel)",
   "language": "python",
   "name": "python3"
  },
  "language_info": {
   "codemirror_mode": {
    "name": "ipython",
    "version": 3
   },
   "file_extension": ".py",
   "mimetype": "text/x-python",
   "name": "python",
   "nbconvert_exporter": "python",
   "pygments_lexer": "ipython3",
   "version": "3.11.7"
  }
 },
 "nbformat": 4,
 "nbformat_minor": 5
}
