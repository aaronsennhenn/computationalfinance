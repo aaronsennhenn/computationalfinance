{
 "cells": [
  {
   "cell_type": "markdown",
   "id": "7a488a53-4852-4766-ae13-d5173a191c86",
   "metadata": {},
   "source": [
    "# Computational Finance Research Notebook"
   ]
  },
  {
   "cell_type": "markdown",
   "id": "434b0ea7-1464-403e-85b2-359723ed488e",
   "metadata": {},
   "source": [
    "#### Load data and Packages"
   ]
  },
  {
   "cell_type": "code",
   "execution_count": 2,
   "id": "c195851a-9665-4f7c-863e-05c9b7407307",
   "metadata": {},
   "outputs": [],
   "source": [
    "#Load libraries\n",
    "import yfinance as yf\n",
    "import pandas as pd\n",
    "import numpy as np\n",
    "import matplotlib.pyplot as plt\n",
    "from module import * "
   ]
  },
  {
   "cell_type": "code",
   "execution_count": 3,
   "id": "c3113c18-6db8-4dda-86f5-8dc2735e29ed",
   "metadata": {},
   "outputs": [
    {
     "name": "stderr",
     "output_type": "stream",
     "text": [
      "[*********************100%***********************]  3 of 3 completed\n"
     ]
    }
   ],
   "source": [
    "#Load data in\n",
    "tickers = [\"TSLA\", \"AAPL\", \"AMD\"]\n",
    "start = \"2020-01-01\"\n",
    "end = \"2024-12-31\"\n",
    "\n",
    "df_prices, df_changes = download_stock_price_data(tickers, start, end)"
   ]
  },
  {
   "cell_type": "markdown",
   "id": "bad2fab7-d4f4-4c96-a50a-f198dab8e4b8",
   "metadata": {},
   "source": [
    "### Signal 1: Moving Average Crossover with MACD Indicator"
   ]
  },
  {
   "cell_type": "markdown",
   "id": "f51f954f-ef47-471e-81ba-8a0551ecb791",
   "metadata": {
    "jp-MarkdownHeadingCollapsed": true
   },
   "source": [
    "#### A) Define signal"
   ]
  },
  {
   "cell_type": "code",
   "execution_count": 3,
   "id": "dd7fa149-07d3-4409-b26c-dc3de6bf3758",
   "metadata": {},
   "outputs": [],
   "source": [
    "def signal01(prices, short_ma, long_ma, short_macd, long_macd, signal_window_macd):\n",
    "\n",
    "    #MA Signal\n",
    "    ma_sig, _ = ma_signal(prices, short_ma, long_ma)\n",
    "\n",
    "    #MACD Signal\n",
    "    macd_sig, _ = signal_macd(prices, short_macd, long_macd, signal_window_macd)\n",
    "\n",
    "    #Combine Signals\n",
    "    combined = combine_two_subsignals(ma_sig, macd_sig)\n",
    "\n",
    "    #Return combined signal dataframe\n",
    "    signals = pd.DataFrame(index=prices.index)\n",
    "    signals['signal'] = combined\n",
    "    signals['position_change'] = signals['signal'].diff().fillna(0)\n",
    "\n",
    "    return signals"
   ]
  },
  {
   "cell_type": "markdown",
   "id": "9c4ab2dc-53c8-4f96-b468-b0252574b03f",
   "metadata": {
    "jp-MarkdownHeadingCollapsed": true
   },
   "source": [
    "#### B) Gridsearch best parameters for training set"
   ]
  },
  {
   "cell_type": "markdown",
   "id": "63d0f732-8d05-4eaa-b008-26aa1b71de22",
   "metadata": {},
   "source": [
    "For the parameter space we choose these parameters because in this literature ..."
   ]
  },
  {
   "cell_type": "code",
   "execution_count": 46,
   "id": "b22bd454-14c7-4fe6-9467-3bddd84a88eb",
   "metadata": {},
   "outputs": [
    {
     "name": "stdout",
     "output_type": "stream",
     "text": [
      "\n",
      "=== Results for TSLA ===\n",
      "   short_ma  long_ma  short_macd  long_macd  signal_window_macd    cumret    sharpe    max_dd  volatility\n",
      "0        50      125          12         26                   9  6.769636  1.012590  0.669353    0.035286\n",
      "1        50      100          12         26                   9  5.985957  0.987173  0.650464    0.034397\n",
      "2        40      125          12         26                   9  5.574169  0.953709  0.672695    0.035192\n",
      "3        40       55          12         26                   9  5.068319  0.941884  0.666146    0.033807\n",
      "4        50      150          12         26                   9  4.970771  0.918768  0.683570    0.035231\n",
      "\n",
      "=== Results for AAPL ===\n",
      "   short_ma  long_ma  short_macd  long_macd  signal_window_macd    cumret    sharpe    max_dd  volatility\n",
      "0        50      200          12         26                   9  2.734213  1.242370  0.279492    0.014806\n",
      "1        30      100          12         26                   9  2.601697  1.176439  0.267464    0.015356\n",
      "2        30      125          12         26                   9  2.559506  1.185372  0.203756    0.015055\n",
      "3        30      200          12         26                   9  2.539445  1.189797  0.235747    0.014913\n",
      "4        40      100          12         26                   9  2.424860  1.120234  0.294249    0.015615\n",
      "\n",
      "=== Results for AMD ===\n",
      "   short_ma  long_ma  short_macd  long_macd  signal_window_macd    cumret    sharpe    max_dd  volatility\n",
      "0        50      100          12         26                   9  1.582447  0.655308  0.506080    0.027216\n",
      "1        40      100          12         26                   9  1.572541  0.652700  0.519782    0.027315\n",
      "2        50       75          12         26                   9  1.431901  0.624296  0.489388    0.027659\n",
      "3        50      200          12         26                   9  1.387033  0.616468  0.537177    0.027578\n",
      "4        40      200          12         26                   9  1.353331  0.610055  0.530432    0.027554\n"
     ]
    }
   ],
   "source": [
    "param_grid = {\n",
    "    'short_ma': [10, 20, 30, 40, 50],\n",
    "    'long_ma': [55, 75, 100, 125, 150, 175, 200],\n",
    "    'short_macd': [12],\n",
    "    'long_macd': [26],\n",
    "    'signal_window_macd': [9]\n",
    "}\n",
    "\n",
    "all_best_params = {}\n",
    "for ticker in tickers:\n",
    "    prices = df_prices[ticker]\n",
    "    best_params, best_score, best_metrics, results_df = gridsearch_strategy(price=prices, param_grid=param_grid, signal_fn=signal01, metric='sharpe')\n",
    "    all_best_params[ticker] = best_params\n",
    "    #pd.set_option('display.width', 200)\n",
    "    #pd.set_option('display.max_columns', None)\n",
    "    #print(f\"\\n=== Results for {ticker} ===\")\n",
    "    #print(results_df.head(5))"
   ]
  },
  {
   "cell_type": "markdown",
   "id": "f20455fa-23f7-4754-af4a-2d84e6dca840",
   "metadata": {},
   "source": [
    "#### C) Evaluate best parameters on test set"
   ]
  },
  {
   "cell_type": "markdown",
   "id": "4a3eb88f-e650-4750-a484-04fbcf509ba5",
   "metadata": {},
   "source": [
    "We decide to evalute the best parameters on the 2020 to 2024 market regime because..."
   ]
  },
  {
   "cell_type": "code",
   "execution_count": null,
   "id": "f0a1cae4-1731-45a1-aa68-b4a704abad70",
   "metadata": {},
   "outputs": [],
   "source": [
    "test_start = \"2020-01-01\"\n",
    "test_end = \"2024-12-31\"\n",
    "\n",
    "test_df_prices, test_df_changes = download_stock_price_data(tickers, test_start, test_end)"
   ]
  },
  {
   "cell_type": "code",
   "execution_count": null,
   "id": "92248cc3-1e07-4ab6-921e-6622a2e57e02",
   "metadata": {},
   "outputs": [],
   "source": [
    "test_results = {}\n",
    "for ticker in tickers:\n",
    "    price = test_df_prices[ticker]\n",
    "    signals = signal01(price = prices, **all_best_params[ticker])\n",
    "    cumret, sharpe_val, max_dd, volatility = backtest_strategy(price, signals)\n",
    "    test_results[ticker] = {'Signal Sharpe': sharpe_val, 'BuyHold Sharpe': buy_hold_sharpe, 'Sharpe Delta': sharpe_val - buy_hold_sharpe, 'Cumulative Return': cumret[-1], 'Max Drawdown': max_dd,'Volatility': volatility}\n",
    "    "
   ]
  },
  {
   "cell_type": "markdown",
   "id": "10f70863-c662-448c-a631-46c4dfece1b5",
   "metadata": {},
   "source": [
    "#### D) Assesment"
   ]
  },
  {
   "cell_type": "code",
   "execution_count": 4,
   "id": "14a7d4ed-b50d-445c-9a53-99cf2ae49b26",
   "metadata": {},
   "outputs": [
    {
     "data": {
      "image/png": "[encoded data removed]",
      "text/plain": [
       "<Figure size 1000x500 with 1 Axes>"
      ]
     },
     "metadata": {},
     "output_type": "display_data"
    }
   ],
   "source": [
    "#Best params\n",
    "short_ma = 50\n",
    "long_ma = 200\n",
    "short_macd = 12\n",
    "long_macd = 26\n",
    "signal_window_macd = 9\n",
    "\n",
    "ticker = \"AAPL\"\n",
    "price = df_prices[ticker]\n",
    "#signals = signal01(prices, short_ma, long_ma, short_macd, long_macd, signal_window_macd)\n",
    "_ , signals = ma_signal(price, short_ma, long_ma)\n",
    "#_ , signals = signal_macd(prices, short_macd, long_macd, signal_window_macd)\n",
    "\n",
    "# Plot\n",
    "plt.figure(figsize=(10, 5))\n",
    "plt.plot(price, label=f\"{ticker} Price\", color='black', alpha=0.8)\n",
    "plt.plot(signals['short_ma'], label='Short MA', color='blue', alpha=0.6)\n",
    "plt.plot(signals['long_ma'], label='Long MA', color='orange', alpha=0.6)\n",
    "\n",
    "#plt.plot(signals['signal_line'], label='EMA', color='blue', alpha=0.6)\n",
    "#plt.plot(signals['MACD'], label='MACD', color='orange', alpha=0.6)\n",
    "\n",
    "# Buy/Sell points\n",
    "buy = signals['position_change'] == 1\n",
    "sell = signals['position_change'] == -1\n",
    "plt.plot(price[buy], 'g^', label='Buy', markersize=7)\n",
    "plt.plot(price[sell], 'rv', label='Sell', markersize=7)\n",
    "\n",
    "plt.title(f\"{ticker} - Buy/Sell Signals from Signal 1\")\n",
    "plt.xlabel(\"Date\")\n",
    "plt.ylabel(\"Price\")\n",
    "plt.legend()\n",
    "plt.grid(True)\n",
    "plt.tight_layout()\n",
    "plt.show()"
   ]
  },
  {
   "cell_type": "code",
   "execution_count": null,
   "id": "2a86c82c-c908-44c9-abbe-6c3dfaf77c0b",
   "metadata": {},
   "outputs": [],
   "source": [
    "tickers = [\"TSLA\", \"AAPL\", \"AMD\"]\n",
    "start = \"2010-01-01\"\n",
    "end = \"2019-12-31\"\n",
    "\n",
    "df_prices, df_changes = download_stock_price_data(tickers, start, end)"
   ]
  },
  {
   "cell_type": "markdown",
   "id": "e02083bb-7d65-490d-b4c6-0cdbd554f6dd",
   "metadata": {
    "jp-MarkdownHeadingCollapsed": true
   },
   "source": [
    "### Signal 2: RSI with Bollinger Bands"
   ]
  },
  {
   "cell_type": "markdown",
   "id": "64cf4b39-a731-43d6-b3f2-7464a022bfad",
   "metadata": {
    "jp-MarkdownHeadingCollapsed": true
   },
   "source": [
    "#### Define signal"
   ]
  },
  {
   "cell_type": "code",
   "execution_count": 6,
   "id": "9dafdda6-80fa-47f1-8970-204e672f8f4c",
   "metadata": {},
   "outputs": [],
   "source": [
    "def signal02(prices, rsi_window_length, lower_rsi_bound, upper_rsi_bound, bollinger_window_length, bollinger_n_stds):\n",
    "\n",
    "    #RSI Signal\n",
    "    rsi_sig, _ = signal_rsi(prices, rsi_window_length, lower_rsi_bound, upper_rsi_bound)\n",
    "\n",
    "    #Bollinger Signal\n",
    "    bollinger_sig, _ = signal_bollinger(prices, bollinger_window_length, bollinger_n_stds)\n",
    "\n",
    "    #Combine Signals\n",
    "    combined = combine_two_subsignals(rsi_sig, bollinger_sig)\n",
    "\n",
    "    #Return combined signal dataframe\n",
    "    signals = pd.DataFrame(index=prices.index)\n",
    "    signals['signal'] = combined\n",
    "    signals['position_change'] = signals['signal'].diff().fillna(0)\n",
    "\n",
    "    return signals"
   ]
  },
  {
   "cell_type": "markdown",
   "id": "0afabfd5-0a71-4c66-82e2-8bf4af57650a",
   "metadata": {},
   "source": [
    "#### Gridsearch Best Parameters"
   ]
  },
  {
   "cell_type": "code",
   "execution_count": 8,
   "id": "4a8555b8-c693-405a-a859-0622345feb82",
   "metadata": {},
   "outputs": [
    {
     "name": "stdout",
     "output_type": "stream",
     "text": [
      "\n",
      "=== Results for TSLA ===\n",
      "   rsi_window_length  lower_rsi_bound  upper_rsi_bound  bollinger_window_length  bollinger_n_stds    cumret    sharpe    max_dd  volatility\n",
      "0                 14               30               60                       14               1.0  3.556598  1.983675  0.359896    0.027187\n",
      "1                 14               40               60                       14               1.0  3.061882  1.801107  0.379489    0.028142\n",
      "2                 10               30               60                       14               1.0  2.744878  1.777227  0.409057    0.026723\n",
      "3                 14               30               70                       14               1.0  2.179210  1.529630  0.485401    0.027999\n",
      "4                 10               30               70                       14               1.0  2.163133  1.527147  0.485401    0.027914\n",
      "\n",
      "=== Results for AAPL ===\n",
      "   rsi_window_length  lower_rsi_bound  upper_rsi_bound  bollinger_window_length  bollinger_n_stds    cumret    sharpe    max_dd  volatility\n",
      "0                 10               30               60                       14               1.0  1.636098  3.445957  0.060950    0.009129\n",
      "1                 14               30               60                       14               1.0  1.518928  3.277684  0.076510    0.009157\n",
      "2                 10               40               60                       14               1.0  1.323600  2.811596  0.113067    0.009797\n",
      "3                 10               30               60                       10               1.0  1.252655  3.002334  0.076510    0.008797\n",
      "4                 14               40               60                       14               1.0  1.184727  2.591715  0.127762    0.009876\n",
      "\n",
      "=== Results for AMD ===\n",
      "   rsi_window_length  lower_rsi_bound  upper_rsi_bound  bollinger_window_length  bollinger_n_stds    cumret    sharpe    max_dd  volatility\n",
      "0                 14               30               60                       14               1.0  5.423026  2.966040  0.185497    0.021125\n",
      "1                 10               30               60                       14               1.0  4.608947  2.726434  0.185497    0.021437\n",
      "2                 10               30               70                       14               1.0  3.521382  2.300502  0.185497    0.022602\n",
      "3                 14               30               70                       14               1.0  3.211129  2.130203  0.312037    0.023508\n",
      "4                 14               30               60                       10               1.0  3.029090  2.195394  0.300555    0.021909\n"
     ]
    }
   ],
   "source": [
    "param_grid = {\n",
    "    'rsi_window_length': [10, 14],\n",
    "    'lower_rsi_bound': [30, 40],\n",
    "    'upper_rsi_bound': [60, 70],\n",
    "    'bollinger_window_length': [10, 14],\n",
    "    'bollinger_n_stds': [1, 1.5, 2]\n",
    "}\n",
    "\n",
    "for ticker in tickers:\n",
    "    prices = df_prices[ticker]\n",
    "    best_params, best_score, best_metrics, results_df = gridsearch_strategy(price=prices, param_grid=param_grid, signal_fn=signal02, metric='cumret')\n",
    "    pd.set_option('display.width', 200)\n",
    "    pd.set_option('display.max_columns', None)\n",
    "    print(f\"\\n=== Results for {ticker} ===\")\n",
    "    print(results_df.head(5))"
   ]
  },
  {
   "cell_type": "markdown",
   "id": "506ddced-fecd-4d2e-b802-1c309d70eeb1",
   "metadata": {
    "jp-MarkdownHeadingCollapsed": true
   },
   "source": [
    "#### Plotting:"
   ]
  },
  {
   "cell_type": "code",
   "execution_count": 3,
   "id": "63328703-b175-4981-a621-52e732959441",
   "metadata": {},
   "outputs": [],
   "source": [
    "signals = signal02(df_prices['TSLA'], 14, 30, 70, 14, 5)"
   ]
  },
  {
   "cell_type": "code",
   "execution_count": 14,
   "id": "b3718260-d64f-412c-a7f4-0954225eb9bd",
   "metadata": {},
   "outputs": [],
   "source": [
    "_, signals['upper_band'], signals['lower_band'] = compute_bollinger_bands(df_prices['AAPL'], window_length=20, num_std=5)\n",
    "signals['rsi'] = compute_rsi(df_prices['AAPL'], 14)\n",
    "signals['price'] = df_prices['TSLA']\n",
    "signals['rsi_sig'], _ = signal_rsi(df_prices['AAPL'], 14, 30, 70)"
   ]
  },
  {
   "cell_type": "code",
   "execution_count": null,
   "id": "d921a348-20ae-4449-8cad-0dea604ff96d",
   "metadata": {},
   "outputs": [],
   "source": [
    "# Plot\n",
    "price = df_prices['TSLA']\n",
    "plt.figure(figsize=(14, 6))\n",
    "\n",
    "plt.plot(price, label=\"Price\", color='black', alpha=0.8)\n",
    "plt.plot(signals['rsi'], label=\"RSI\", color='blue', alpha=0.8)\n",
    "\n",
    "# Horizontal lines for RSI thresholds\n",
    "plt.axhline(y=30, color='red', linestyle='--', linewidth=1.2, label='Lower Bound (30)')\n",
    "plt.axhline(y=70, color='green', linestyle='--', linewidth=1.2, label='Upper Bound (70)')\n",
    "\n",
    "# Buy/Sell markers\n",
    "buy = signals['position_change'] == 1\n",
    "sell = signals['position_change'] == -1\n",
    "\n",
    "# You must plot index vs. value\n",
    "plt.plot(signals.index[buy], signals['rsi'][buy], 'g^', label='Buy', markersize=10)\n",
    "plt.plot(signals.index[sell], signals['rsi'][sell], 'rv', label='Sell', markersize=10)\n",
    "\n",
    "plt.title(\"Buy/Sell Signals from RSI\")\n",
    "plt.xlabel(\"Date\")\n",
    "plt.ylabel(\"RSI\")\n",
    "plt.legend()\n",
    "plt.grid(True)\n",
    "plt.tight_layout()\n",
    "plt.show()"
   ]
  },
  {
   "cell_type": "markdown",
   "id": "58b427f5-9b0b-42cb-b0a4-f63410f4a144",
   "metadata": {
    "jp-MarkdownHeadingCollapsed": true
   },
   "source": [
    "### Signal 3: Donchian Channel with ADX"
   ]
  },
  {
   "cell_type": "markdown",
   "id": "3963439b-4f01-4b6a-8c7f-bb5380430757",
   "metadata": {
    "jp-MarkdownHeadingCollapsed": true
   },
   "source": [
    "#### Define signal"
   ]
  },
  {
   "cell_type": "code",
   "execution_count": null,
   "id": "3f624729-99bc-4440-8a15-29c094507ff1",
   "metadata": {},
   "outputs": [],
   "source": [
    "def signal03(prices, adx_window_length, donchian_window_length):\n",
    "    \n",
    "    signals = pd.DataFrame(index=prices.index)\n",
    "    signals['signal'] = 0.0\n",
    "\n",
    "    adx = compute_adx(prices, adx_window_length)\n",
    "    donchian_sig, _ = donchian_signals(prices, donchian_window_length)\n",
    "    donchian_sig = np.asarray(donchian_sig)\n",
    "\n",
    "    #Custom tradig logic since adx only detects trends but not in which direction -> combine_two_subsignals() function doesn't work\n",
    "    position = np.zeros(len(prices), dtype=float)\n",
    "    holding = 0\n",
    "    for i in range(len(prices)):\n",
    "        if np.isnan(adx[i]):\n",
    "            continue\n",
    "        if holding == 0 and (donchian_sig[i] == 1 or adx[i] > 25):\n",
    "            holding = 1\n",
    "        elif holding == 1 and donchian_sig[i] == 0 and adx[i] > 25:\n",
    "            holding = 0\n",
    "        position[i] = holding\n",
    "\n",
    "    signals['signal'] = position\n",
    "    signals['position_change'] = signals['signal'].diff().fillna(0)\n",
    "    signals.iloc[0, signals.columns.get_loc('position_change')] = 0\n",
    "\n",
    "    return signals"
   ]
  },
  {
   "cell_type": "markdown",
   "id": "15b982d4-db76-4dcb-b1b3-eaca6c293261",
   "metadata": {},
   "source": [
    "#### Gridsearch best Parameters"
   ]
  },
  {
   "cell_type": "code",
   "execution_count": 13,
   "id": "4281424f-a725-4c09-b9fc-6cc50575fe51",
   "metadata": {},
   "outputs": [
    {
     "name": "stdout",
     "output_type": "stream",
     "text": [
      "\n",
      "=== Results for TSLA ===\n",
      "   adx_window_length  donchian_window_length    cumret    sharpe    max_dd  volatility\n",
      "0                  8                      58  0.832684  0.907907  0.338516     0.02781\n",
      "1                  8                      10  0.832684  0.907907  0.338516     0.02781\n",
      "2                  8                      12  0.832684  0.907907  0.338516     0.02781\n",
      "3                  8                      14  0.832684  0.907907  0.338516     0.02781\n",
      "4                  8                      16  0.832684  0.907907  0.338516     0.02781\n",
      "\n",
      "=== Results for AAPL ===\n",
      "   adx_window_length  donchian_window_length    cumret    sharpe    max_dd  volatility\n",
      "0                 10                      12  0.704364  1.950383  0.085115    0.009011\n",
      "1                 10                      10  0.704364  1.950383  0.085115    0.009011\n",
      "2                 10                      20  0.704364  1.950383  0.085115    0.009011\n",
      "3                 10                      18  0.704364  1.950383  0.085115    0.009011\n",
      "4                 10                      16  0.704364  1.950383  0.085115    0.009011\n",
      "\n",
      "=== Results for AMD ===\n",
      "   adx_window_length  donchian_window_length    cumret   sharpe    max_dd  volatility\n",
      "0                 18                      10  0.743075  1.84699  0.066932    0.009968\n",
      "1                 18                      58  0.743075  1.84699  0.066932    0.009968\n",
      "2                 18                      12  0.743075  1.84699  0.066932    0.009968\n",
      "3                 18                      14  0.743075  1.84699  0.066932    0.009968\n",
      "4                 18                      16  0.743075  1.84699  0.066932    0.009968\n"
     ]
    }
   ],
   "source": [
    "param_grid = {\n",
    "    'adx_window_length': [8, 10, 12, 14, 16, 18, 20],\n",
    "    'donchian_window_length': [58, 10, 12, 14, 16, 18, 20]\n",
    "}\n",
    "\n",
    "all_best_params = {}\n",
    "for ticker in tickers:\n",
    "    prices = df_prices[ticker]\n",
    "    best_params, best_score, best_metrics, results_df = gridsearch_strategy(price=prices, param_grid=param_grid, signal_fn=signal03, metric='cumret')\n",
    "    all_best_params[ticker] = best_params\n",
    "    pd.set_option('display.width', 200)\n",
    "    pd.set_option('display.max_columns', None)\n",
    "    print(f\"\\n=== Results for {ticker} ===\")\n",
    "    print(results_df.head(5))"
   ]
  }
 ],
 "metadata": {
  "kernelspec": {
   "display_name": "Python 3 (ipykernel)",
   "language": "python",
   "name": "python3"
  },
  "language_info": {
   "codemirror_mode": {
    "name": "ipython",
    "version": 3
   },
   "file_extension": ".py",
   "mimetype": "text/x-python",
   "name": "python",
   "nbconvert_exporter": "python",
   "pygments_lexer": "ipython3",
   "version": "3.11.7"
  }
 },
 "nbformat": 4,
 "nbformat_minor": 5
}
