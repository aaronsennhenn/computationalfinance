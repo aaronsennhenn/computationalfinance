{
 "cells": [
  {
   "cell_type": "code",
   "execution_count": 2,
   "id": "58c86311",
   "metadata": {},
   "outputs": [
    {
     "ename": "ModuleNotFoundError",
     "evalue": "No module named 'pandas_datareader'",
     "output_type": "error",
     "traceback": [
      "\u001b[1;31m---------------------------------------------------------------------------\u001b[0m",
      "\u001b[1;31mModuleNotFoundError\u001b[0m                       Traceback (most recent call last)",
      "Cell \u001b[1;32mIn[2], line 7\u001b[0m\n\u001b[0;32m      4\u001b[0m \u001b[38;5;28;01mimport\u001b[39;00m \u001b[38;5;21;01mmatplotlib\u001b[39;00m\u001b[38;5;21;01m.\u001b[39;00m\u001b[38;5;21;01mpyplot\u001b[39;00m \u001b[38;5;28;01mas\u001b[39;00m \u001b[38;5;21;01mplt\u001b[39;00m\n\u001b[0;32m      5\u001b[0m get_ipython()\u001b[38;5;241m.\u001b[39mrun_line_magic(\u001b[38;5;124m'\u001b[39m\u001b[38;5;124mmatplotlib\u001b[39m\u001b[38;5;124m'\u001b[39m, \u001b[38;5;124m'\u001b[39m\u001b[38;5;124minline\u001b[39m\u001b[38;5;124m'\u001b[39m)\n\u001b[1;32m----> 7\u001b[0m \u001b[38;5;28;01mimport\u001b[39;00m \u001b[38;5;21;01mmodule\u001b[39;00m\n",
      "File \u001b[1;32m~\\OneDrive\\Desktop\\Data Science Studium\\SS 25\\Computational Python\\module.py:13\u001b[0m\n\u001b[0;32m     11\u001b[0m \u001b[38;5;28;01mimport\u001b[39;00m \u001b[38;5;21;01mpandas\u001b[39;00m \u001b[38;5;28;01mas\u001b[39;00m \u001b[38;5;21;01mpd\u001b[39;00m\n\u001b[0;32m     12\u001b[0m \u001b[38;5;28;01mimport\u001b[39;00m \u001b[38;5;21;01myfinance\u001b[39;00m \u001b[38;5;28;01mas\u001b[39;00m \u001b[38;5;21;01myf\u001b[39;00m\n\u001b[1;32m---> 13\u001b[0m \u001b[38;5;28;01mfrom\u001b[39;00m \u001b[38;5;21;01mpandas_datareader\u001b[39;00m \u001b[38;5;28;01mimport\u001b[39;00m data\n\u001b[0;32m     16\u001b[0m \u001b[38;5;66;03m### DOWNLOAD DATA\u001b[39;00m\n\u001b[0;32m     18\u001b[0m \u001b[38;5;28;01mdef\u001b[39;00m \u001b[38;5;21mdownload_stock_price_data\u001b[39m(tickers, start_date, end_date):    \n\u001b[0;32m     19\u001b[0m     \u001b[38;5;66;03m# download the time series of adj. close price \u001b[39;00m\n\u001b[0;32m     20\u001b[0m     \u001b[38;5;66;03m# for each of the tickers from Yahoo finance\u001b[39;00m\n\u001b[1;32m   (...)\u001b[0m\n\u001b[0;32m     23\u001b[0m     \u001b[38;5;66;03m# in case you receive an error update your yfinance to the current version\u001b[39;00m\n\u001b[0;32m     24\u001b[0m     \u001b[38;5;66;03m# and/or perform bug fixing\u001b[39;00m\n",
      "\u001b[1;31mModuleNotFoundError\u001b[0m: No module named 'pandas_datareader'"
     ]
    }
   ],
   "source": [
    "import numpy as np\n",
    "import pandas as pd\n",
    "\n",
    "import matplotlib.pyplot as plt\n",
    "%matplotlib inline\n",
    "\n",
    "import module"
   ]
  },
  {
   "cell_type": "code",
   "execution_count": null,
   "id": "275451ad",
   "metadata": {},
   "outputs": [],
   "source": [
    "# define tickers of stocks that are to be analyzed\n",
    "tickers = [ \\\n",
    "    'AAPL', # Apple\n",
    "    'MSFT', # Microsoft\n",
    "    'AMZN', # Amazon\n",
    "    '^GSPC'] # S&P500 - Benchmark\n",
    "\n",
    "# define time span of stock price data\n",
    "start_date = '2010-01-01'\n",
    "end_date = '2021-12-31'\n",
    "    \n",
    "# download the data\n",
    "df_prices, df_price_changes = module.download_stock_price_data(tickers, start_date, end_date)"
   ]
  },
  {
   "cell_type": "code",
   "execution_count": null,
   "id": "3c56ceb8",
   "metadata": {},
   "outputs": [],
   "source": [
    "# DEFINE THREE TRADING SIGNALS\n",
    "\n",
    "# DO YOUR RESEARCH IN A SEPARATE NOTEBOOK AND IMPLEMENT THE FINAL SIGNALS IN THE MODULE\n",
    "# PLEASE PROVIDE THE FOLLOWING AS PART OF THE ASSESSMENT:\n",
    "# - provide a reference to the related literature for each trading signal as mentioned below\n",
    "# - provide your SEPARATE RESERACH NOTEBOOK in which you back your trading signals\n",
    "#   and their parameters by empirical research:\n",
    "#   - perform a systematic parameter search / optimization that backs your parameter selection empirically\n",
    "#   - perform extensive in-sample and out-of-sample testing of your trading signals and parameters with respect to\n",
    "#   -- companies / stocks\n",
    "#   -- time horizons\n",
    "#   - there is no example for your research notebook, you're completely free to develop it according to your research\n",
    "# - provide a module.py file to re-use your code in both your assessment notebook and your research notebook\n",
    "\n",
    "# REMEMBER THAT YOU MAY NOT USE BUILT-IN FUNCTIONS FROM OTHER LIBRARIES THAN NUMPY\n",
    "# WHEN IN DOUBT - CODE A FUNCTION IN NUMPY ON YOUR OWN!\n",
    "# EXAMPLE: .rolling().mean() is a built-in function in Pandas, that's why moving average is implemented in NumPy (see module.py)\n",
    "\n",
    "# PLEASE MAKE SURE THAT YOUR SIGNAL FUNCTIONS DO NOT GENERATE\n",
    "# A SELL SIGNAL WHEN THERE WAS NO BUY SIGNAL"
   ]
  },
  {
   "cell_type": "markdown",
   "id": "cc51bad9",
   "metadata": {},
   "source": [
    "Signal 0 is a moving average signal. It is active when the following condition is met in $t$:\n",
    "\n",
    "$\\frac{1}{250}\\sum\\limits^{249}_{i=0}p_{t-i}>\\frac{1}{500}\\sum\\limits^{499}_{i=0}p_{t-i}$"
   ]
  },
  {
   "cell_type": "code",
   "execution_count": null,
   "id": "93ae2ecc",
   "metadata": {},
   "outputs": [],
   "source": [
    "### SIGNAL 0\n",
    "def signal_0(series):\n",
    "    return module.ma_signal(series, 250, 500)"
   ]
  },
  {
   "cell_type": "markdown",
   "id": "631187ec",
   "metadata": {},
   "source": [
    "Signal 1 is a moving average signal. It is active when the following condition is met in $t$:\n",
    "\n",
    "$\\frac{1}{125}\\sum\\limits^{124}_{i=0}p_{t-i}>\\frac{1}{250}\\sum\\limits^{249}_{i=0}p_{t-i}$"
   ]
  },
  {
   "cell_type": "code",
   "execution_count": null,
   "id": "618aadfe-34e7-499c-aeaa-b89055f4d468",
   "metadata": {},
   "outputs": [],
   "source": [
    "### SIGNAL 1\n",
    "def signal_1(series):\n",
    "    return module.ma_signal(series, 125, 250)"
   ]
  },
  {
   "cell_type": "markdown",
   "id": "09667e34",
   "metadata": {},
   "source": [
    "Signal 2 is a moving average signal. It is active when the following condition is met in $t$:\n",
    "\n",
    "$\\frac{1}{60}\\sum\\limits^{59}_{i=0}p_{t-i}>\\frac{1}{120}\\sum\\limits^{119}_{i=0}p_{t-i}$"
   ]
  },
  {
   "cell_type": "code",
   "execution_count": null,
   "id": "42f935ee",
   "metadata": {},
   "outputs": [],
   "source": [
    "### SIGNAL 2\n",
    "def signal_2(series):\n",
    "    return module.ma_signal(series, 60, 120)"
   ]
  },
  {
   "cell_type": "code",
   "execution_count": null,
   "id": "288773e3",
   "metadata": {},
   "outputs": [],
   "source": [
    "# Compute signals\n",
    "signals = {\n",
    "    tickers[0]: signal_0(df_prices[tickers[0]]),\n",
    "    tickers[1]: signal_1(df_prices[tickers[1]]),\n",
    "    tickers[2]: signal_2(df_prices[tickers[2]])}\n",
    "df_position_open = pd.concat([\n",
    "    signals[tickers[0]]['signal'].rename(tickers[0]),\n",
    "    signals[tickers[1]]['signal'].rename(tickers[1]),\n",
    "    signals[tickers[2]]['signal'].rename(tickers[2])], axis = 1)\n",
    "df_position_changes = pd.concat([\n",
    "    signals[tickers[0]]['position_change'].rename(tickers[0]),\n",
    "    signals[tickers[1]]['position_change'].rename(tickers[1]),\n",
    "    signals[tickers[2]]['position_change'].rename(tickers[2])], axis = 1)"
   ]
  },
  {
   "cell_type": "code",
   "execution_count": null,
   "id": "2d150c14",
   "metadata": {},
   "outputs": [],
   "source": [
    "# ALLOCATE CAPITAL AND COMPUTE RESULTING POSITIONS\n",
    "initial_cash = 1.0\n",
    "capital_fraction_per_trade = 0.2\n",
    "\n",
    "# DO NOT MODIFY THIS CELL BELOW THIS LINE\n",
    "position = []\n",
    "\n",
    "def open_trades(position, position_change):\n",
    "    vec = np.maximum([position_change[ticker] for ticker in tickers[:-1]], [0])\n",
    "    vec = position[-1] * (1 - np.power((1 - capital_fraction_per_trade), np.sum(vec))) * vec / (1 if (np.nansum(vec) == 0.0) else np.nansum(vec))\n",
    "    return np.append(vec + position[:-1], position[-1] - np.sum(vec))\n",
    "\n",
    "def hold_trades(position, price_change):\n",
    "    return np.concatenate((position[:-1] * price_change[:-1], [position[-1]]))\n",
    "\n",
    "def close_trades(position, position_change):\n",
    "    vec = np.concatenate((np.array([position_change[ticker] < 0.0 for ticker in tickers[:-1]]), [False]))\n",
    "    position[-1] = position[-1] + np.sum(position[vec])\n",
    "    position[vec] = 0.0\n",
    "    return position\n",
    "    \n",
    "is_first = True\n",
    "for idx, position_change in df_position_changes.iterrows():\n",
    "    if is_first:\n",
    "        position.append(open_trades(np.concatenate((np.zeros(len(df_position_changes.columns)), [initial_cash])), position_change))\n",
    "        is_first = False\n",
    "    else:\n",
    "        hlpr_pos = hold_trades(position[-1], df_price_changes.loc[[idx]].to_numpy()[0])\n",
    "        hlpr_pos = close_trades(hlpr_pos, position_change)\n",
    "        position.append(open_trades(hlpr_pos, position_change))\n",
    "\n",
    "df_position = pd.DataFrame(position, index = df_prices.index, columns = tickers[:-1] + ['cash'])"
   ]
  },
  {
   "cell_type": "code",
   "execution_count": null,
   "id": "27bf0eee",
   "metadata": {},
   "outputs": [],
   "source": [
    "# COMPUTE MEANINGFUL STATISTICS OF YOUR STRATEGY\n",
    "# YOU ARE FREE TO CHOOSE MEASURES\n",
    "\n",
    "# REMEMBER THAT YOU MAY NOT USE READY-TO-USE FUNCTIONS FROM OTHER LIBRARIES THAN NUMPY\n",
    "# WHEN IN DOUBT - CODE A FUNCTION ON YOUR OWN!\n",
    "# EXAMPLE: .mean() and .std() are ready-to-use, that's why they are implemented using NumPy below\n",
    "\n",
    "returns = df_position.sum(axis=1)\n",
    "returns = (returns[1:].to_numpy() / returns[:-1].to_numpy()) - 1\n",
    "mean_returns = np.sum(returns) / len(returns)\n",
    "std_returns = np.sqrt(np.sum(np.square(returns - mean_returns)) / len(returns))\n",
    "print('Annualized mean: ' + str(mean_returns * 250))\n",
    "print('Annualized std:  ' + str(std_returns * np.sqrt(250)))"
   ]
  },
  {
   "cell_type": "code",
   "execution_count": null,
   "id": "2760e381",
   "metadata": {},
   "outputs": [],
   "source": [
    "# COMPUTE MEANINGFUL PLOTS OF YOUR STRATEGY AND LABEL THEM IN AN UNDERSTANDABLE WAY\n",
    "df_position.sum(axis=1).plot()"
   ]
  },
  {
   "cell_type": "code",
   "execution_count": null,
   "id": "a1a69125-563d-4e20-86ff-cae226d5956d",
   "metadata": {},
   "outputs": [],
   "source": []
  }
 ],
 "metadata": {
  "kernelspec": {
   "display_name": "Python 3 (ipykernel)",
   "language": "python",
   "name": "python3"
  },
  "language_info": {
   "codemirror_mode": {
    "name": "ipython",
    "version": 3
   },
   "file_extension": ".py",
   "mimetype": "text/x-python",
   "name": "python",
   "nbconvert_exporter": "python",
   "pygments_lexer": "ipython3",
   "version": "3.11.7"
  }
 },
 "nbformat": 4,
 "nbformat_minor": 5
}
