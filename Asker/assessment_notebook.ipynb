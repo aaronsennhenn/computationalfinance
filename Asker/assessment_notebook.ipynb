{
 "cells": [
  {
   "cell_type": "code",
   "execution_count": 1,
   "id": "58c86311",
   "metadata": {},
   "outputs": [],
   "source": [
    "import numpy as np\n",
    "import pandas as pd\n",
    "\n",
    "import matplotlib.pyplot as plt\n",
    "%matplotlib inline\n",
    "\n",
    "import module"
   ]
  },
  {
   "cell_type": "code",
   "execution_count": 2,
   "id": "275451ad",
   "metadata": {},
   "outputs": [
    {
     "name": "stderr",
     "output_type": "stream",
     "text": [
      "[*********************100%***********************]  4 of 4 completed\n"
     ]
    }
   ],
   "source": [
    "# define tickers of stocks that are to be analyzed\n",
    "tickers = [ \\\n",
    "    'AAPL', # Apple\n",
    "    'MSFT', # Microsoft\n",
    "    'AMZN', # Amazon\n",
    "    '^GSPC'] # S&P500 - Benchmark\n",
    "\n",
    "# define time span of stock price data\n",
    "start_date = '2010-01-01'\n",
    "end_date = '2021-12-31'\n",
    "    \n",
    "# download the data\n",
    "df_prices, df_price_changes = module.download_stock_price_data(tickers, start_date, end_date)"
   ]
  },
  {
   "cell_type": "code",
   "execution_count": null,
   "id": "3c56ceb8",
   "metadata": {},
   "outputs": [],
   "source": [
    "# DEFINE THREE TRADING SIGNALS\n",
    "\n",
    "# DO YOUR RESEARCH IN A SEPARATE NOTEBOOK AND IMPLEMENT THE FINAL SIGNALS IN THE MODULE\n",
    "# PLEASE PROVIDE THE FOLLOWING AS PART OF THE ASSESSMENT:\n",
    "# - provide a reference to the related literature for each trading signal as mentioned below\n",
    "# - provide your SEPARATE RESERACH NOTEBOOK in which you back your trading signals\n",
    "#   and their parameters by empirical research:\n",
    "#   - perform a systematic parameter search / optimization that backs your parameter selection empirically\n",
    "#   - perform extensive in-sample and out-of-sample testing of your trading signals and parameters with respect to\n",
    "#   -- companies / stocks\n",
    "#   -- time horizons\n",
    "#   - there is no example for your research notebook, you're completely free to develop it according to your research\n",
    "# - provide a module.py file to re-use your code in both your assessment notebook and your research notebook\n",
    "\n",
    "# REMEMBER THAT YOU MAY NOT USE BUILT-IN FUNCTIONS FROM OTHER LIBRARIES THAN NUMPY\n",
    "# WHEN IN DOUBT - CODE A FUNCTION IN NUMPY ON YOUR OWN!\n",
    "# EXAMPLE: .rolling().mean() is a built-in function in Pandas, that's why moving average is implemented in NumPy (see module.py)\n",
    "\n",
    "# PLEASE MAKE SURE THAT YOUR SIGNAL FUNCTIONS DO NOT GENERATE\n",
    "# A SELL SIGNAL WHEN THERE WAS NO BUY SIGNAL"
   ]
  },
  {
   "cell_type": "markdown",
   "id": "cc51bad9",
   "metadata": {},
   "source": [
    "Signal 0 is a moving average signal. It is active when the following condition is met in $t$:\n",
    "\n",
    "$\\frac{1}{250}\\sum\\limits^{249}_{i=0}p_{t-i}>\\frac{1}{500}\\sum\\limits^{499}_{i=0}p_{t-i}$"
   ]
  },
  {
   "cell_type": "code",
   "execution_count": 3,
   "id": "93ae2ecc",
   "metadata": {},
   "outputs": [],
   "source": [
    "### SIGNAL 0\n",
    "def signal_0(series):\n",
    "    return module.ma_signal(series, 250, 500)"
   ]
  },
  {
   "cell_type": "markdown",
   "id": "631187ec",
   "metadata": {},
   "source": [
    "Signal 1 is a moving average signal. It is active when the following condition is met in $t$:\n",
    "\n",
    "$\\frac{1}{125}\\sum\\limits^{124}_{i=0}p_{t-i}>\\frac{1}{250}\\sum\\limits^{249}_{i=0}p_{t-i}$"
   ]
  },
  {
   "cell_type": "code",
   "execution_count": 4,
   "id": "618aadfe-34e7-499c-aeaa-b89055f4d468",
   "metadata": {},
   "outputs": [],
   "source": [
    "### SIGNAL 1\n",
    "def signal_1(series):\n",
    "    return module.ma_signal(series, 125, 250)"
   ]
  },
  {
   "cell_type": "markdown",
   "id": "09667e34",
   "metadata": {},
   "source": [
    "Signal 2 is a moving average signal. It is active when the following condition is met in $t$:\n",
    "\n",
    "$\\frac{1}{60}\\sum\\limits^{59}_{i=0}p_{t-i}>\\frac{1}{120}\\sum\\limits^{119}_{i=0}p_{t-i}$"
   ]
  },
  {
   "cell_type": "code",
   "execution_count": 5,
   "id": "42f935ee",
   "metadata": {},
   "outputs": [],
   "source": [
    "### SIGNAL 2\n",
    "def signal_2(series):\n",
    "    return module.ma_signal(series, 60, 120)"
   ]
  },
  {
   "cell_type": "code",
   "execution_count": 6,
   "id": "288773e3",
   "metadata": {},
   "outputs": [
    {
     "name": "stdout",
     "output_type": "stream",
     "text": [
      "            signal   short_ma    long_ma\n",
      "Date                                    \n",
      "2010-01-04     0.0   3.505423   3.897071\n",
      "2010-01-05     0.0   3.535109   3.916526\n",
      "2010-01-06     0.0   3.564999   3.935914\n",
      "2010-01-07     0.0   3.596095   3.955724\n",
      "2010-01-08     0.0   3.627122   3.975638\n",
      "...            ...        ...        ...\n",
      "2021-12-23     0.0  77.506135  70.259601\n",
      "2021-12-27     0.0  76.978542  69.992918\n",
      "2021-12-28     0.0  76.444882  69.729786\n",
      "2021-12-29     0.0  75.908755  69.468898\n",
      "2021-12-30     0.0  75.371415  69.210019\n",
      "\n",
      "[3020 rows x 3 columns]\n",
      "            signal    short_ma     long_ma\n",
      "Date                                      \n",
      "2010-01-04     0.0   10.759519   10.239786\n",
      "2010-01-05     0.0   10.829969   10.282429\n",
      "2010-01-06     0.0   10.902084   10.325164\n",
      "2010-01-07     0.0   10.975652   10.368007\n",
      "2010-01-08     0.0   11.049553   10.411017\n",
      "...            ...         ...         ...\n",
      "2021-12-23     0.0  154.468838  135.619201\n",
      "2021-12-27     0.0  153.429039  135.185966\n",
      "2021-12-28     0.0  152.378871  134.754290\n",
      "2021-12-29     0.0  151.330637  134.327372\n",
      "2021-12-30     0.0  150.279695  133.899028\n",
      "\n",
      "[3020 rows x 3 columns]\n",
      "            signal   short_ma    long_ma\n",
      "Date                                    \n",
      "2010-01-04     0.0   3.195262   3.470063\n",
      "2010-01-05     0.0   3.217090   3.488338\n",
      "2010-01-06     0.0   3.239102   3.506338\n",
      "2010-01-07     0.0   3.261788   3.524760\n",
      "2010-01-08     0.0   3.285032   3.543261\n",
      "...            ...        ...        ...\n",
      "2021-12-23     0.0  89.371364  85.246888\n",
      "2021-12-27     0.0  88.682586  84.918492\n",
      "2021-12-28     0.0  87.992958  84.586292\n",
      "2021-12-29     0.0  87.304926  84.257707\n",
      "2021-12-30     0.0  86.618332  83.932014\n",
      "\n",
      "[3020 rows x 3 columns]\n"
     ]
    }
   ],
   "source": [
    "# Compute signals\n",
    "signals = {\n",
    "    tickers[0]: signal_0(df_prices[tickers[0]]),\n",
    "    tickers[1]: signal_1(df_prices[tickers[1]]),\n",
    "    tickers[2]: signal_2(df_prices[tickers[2]])}\n",
    "df_position_open = pd.concat([\n",
    "    signals[tickers[0]]['signal'].rename(tickers[0]),\n",
    "    signals[tickers[1]]['signal'].rename(tickers[1]),\n",
    "    signals[tickers[2]]['signal'].rename(tickers[2])], axis = 1)\n",
    "df_position_changes = pd.concat([\n",
    "    signals[tickers[0]]['position_change'].rename(tickers[0]),\n",
    "    signals[tickers[1]]['position_change'].rename(tickers[1]),\n",
    "    signals[tickers[2]]['position_change'].rename(tickers[2])], axis = 1)"
   ]
  },
  {
   "cell_type": "code",
   "execution_count": 7,
   "id": "2d150c14",
   "metadata": {},
   "outputs": [],
   "source": [
    "# ALLOCATE CAPITAL AND COMPUTE RESULTING POSITIONS\n",
    "initial_cash = 1.0\n",
    "capital_fraction_per_trade = 0.2\n",
    "\n",
    "# DO NOT MODIFY THIS CELL BELOW THIS LINE\n",
    "position = []\n",
    "\n",
    "def open_trades(position, position_change):\n",
    "    vec = np.maximum([position_change[ticker] for ticker in tickers[:-1]], [0])\n",
    "    vec = position[-1] * (1 - np.power((1 - capital_fraction_per_trade), np.sum(vec))) * vec / (1 if (np.nansum(vec) == 0.0) else np.nansum(vec))\n",
    "    return np.append(vec + position[:-1], position[-1] - np.sum(vec))\n",
    "\n",
    "def hold_trades(position, price_change):\n",
    "    return np.concatenate((position[:-1] * price_change[:-1], [position[-1]]))\n",
    "\n",
    "def close_trades(position, position_change):\n",
    "    vec = np.concatenate((np.array([position_change[ticker] < 0.0 for ticker in tickers[:-1]]), [False]))\n",
    "    position[-1] = position[-1] + np.sum(position[vec])\n",
    "    position[vec] = 0.0\n",
    "    return position\n",
    "    \n",
    "is_first = True\n",
    "for idx, position_change in df_position_changes.iterrows():\n",
    "    if is_first:\n",
    "        position.append(open_trades(np.concatenate((np.zeros(len(df_position_changes.columns)), [initial_cash])), position_change))\n",
    "        is_first = False\n",
    "    else:\n",
    "        hlpr_pos = hold_trades(position[-1], df_price_changes.loc[[idx]].to_numpy()[0])\n",
    "        hlpr_pos = close_trades(hlpr_pos, position_change)\n",
    "        position.append(open_trades(hlpr_pos, position_change))\n",
    "\n",
    "df_position = pd.DataFrame(position, index = df_prices.index, columns = tickers[:-1] + ['cash'])"
   ]
  },
  {
   "cell_type": "code",
   "execution_count": 8,
   "id": "27bf0eee",
   "metadata": {},
   "outputs": [
    {
     "name": "stdout",
     "output_type": "stream",
     "text": [
      "Annualized mean: 0.05491076744177668\n",
      "Annualized std:  0.06464266644789518\n"
     ]
    }
   ],
   "source": [
    "# COMPUTE MEANINGFUL STATISTICS OF YOUR STRATEGY\n",
    "# YOU ARE FREE TO CHOOSE MEASURES\n",
    "\n",
    "# REMEMBER THAT YOU MAY NOT USE READY-TO-USE FUNCTIONS FROM OTHER LIBRARIES THAN NUMPY\n",
    "# WHEN IN DOUBT - CODE A FUNCTION ON YOUR OWN!\n",
    "# EXAMPLE: .mean() and .std() are ready-to-use, that's why they are implemented using NumPy below\n",
    "\n",
    "returns = df_position.sum(axis=1)\n",
    "returns = (returns[1:].to_numpy() / returns[:-1].to_numpy()) - 1\n",
    "mean_returns = np.sum(returns) / len(returns)\n",
    "std_returns = np.sqrt(np.sum(np.square(returns - mean_returns)) / len(returns))\n",
    "print('Annualized mean: ' + str(mean_returns * 250))\n",
    "print('Annualized std:  ' + str(std_returns * np.sqrt(250)))"
   ]
  },
  {
   "cell_type": "code",
   "execution_count": 9,
   "id": "2760e381",
   "metadata": {},
   "outputs": [
    {
     "data": {
      "text/plain": [
       "<Axes: xlabel='Date'>"
      ]
     },
     "execution_count": 9,
     "metadata": {},
     "output_type": "execute_result"
    },
    {
     "data": {
      "image/png": "[encoded data removed]",
      "text/plain": [
       "<Figure size 640x480 with 1 Axes>"
      ]
     },
     "metadata": {},
     "output_type": "display_data"
    }
   ],
   "source": [
    "# COMPUTE MEANINGFUL PLOTS OF YOUR STRATEGY AND LABEL THEM IN AN UNDERSTANDABLE WAY\n",
    "df_position.sum(axis=1).plot()"
   ]
  },
  {
   "cell_type": "code",
   "execution_count": null,
   "id": "a1a69125-563d-4e20-86ff-cae226d5956d",
   "metadata": {},
   "outputs": [],
   "source": []
  }
 ],
 "metadata": {
  "kernelspec": {
   "display_name": "Python 3 (ipykernel)",
   "language": "python",
   "name": "python3"
  },
  "language_info": {
   "codemirror_mode": {
    "name": "ipython",
    "version": 3
   },
   "file_extension": ".py",
   "mimetype": "text/x-python",
   "name": "python",
   "nbconvert_exporter": "python",
   "pygments_lexer": "ipython3",
   "version": "3.11.7"
  }
 },
 "nbformat": 4,
 "nbformat_minor": 5
}
