{
 "cells": [
  {
   "cell_type": "code",
   "execution_count": 1,
   "id": "58c86311",
   "metadata": {},
   "outputs": [],
   "source": [
    "import numpy as np\n",
    "import pandas as pd\n",
    "\n",
    "import matplotlib.pyplot as plt\n",
    "%matplotlib inline\n",
    "\n",
    "from module import *"
   ]
  },
  {
   "cell_type": "code",
   "execution_count": 2,
   "id": "275451ad",
   "metadata": {},
   "outputs": [
    {
     "name": "stderr",
     "output_type": "stream",
     "text": [
      "[*********************100%***********************]  4 of 4 completed\n"
     ]
    }
   ],
   "source": [
    "# define tickers of stocks that are to be analyzed\n",
    "tickers = [\"AAPL\", \"MSFT\", \"AMZN\", \"TSLA\"]\n",
    "\n",
    "# define time span of stock price data\n",
    "start_date = '2010-01-01'\n",
    "end_date = '2021-12-31'\n",
    "    \n",
    "# download the data\n",
    "df_prices, df_price_changes = download_stock_price_data(tickers, start_date, end_date)"
   ]
  },
  {
   "cell_type": "code",
   "execution_count": null,
   "id": "3c56ceb8",
   "metadata": {},
   "outputs": [],
   "source": [
    "# DEFINE THREE TRADING SIGNALS\n",
    "\n",
    "# DO YOUR RESEARCH IN A SEPARATE NOTEBOOK AND IMPLEMENT THE FINAL SIGNALS IN THE MODULE\n",
    "# PLEASE PROVIDE THE FOLLOWING AS PART OF THE ASSESSMENT:\n",
    "# - provide a reference to the related literature for each trading signal as mentioned below\n",
    "# - provide your SEPARATE RESERACH NOTEBOOK in which you back your trading signals\n",
    "#   and their parameters by empirical research:\n",
    "#   - perform a systematic parameter search / optimization that backs your parameter selection empirically\n",
    "#   - perform extensive in-sample and out-of-sample testing of your trading signals and parameters with respect to\n",
    "#   -- companies / stocks\n",
    "#   -- time horizons\n",
    "#   - there is no example for your research notebook, you're completely free to develop it according to your research\n",
    "# - provide a module.py file to re-use your code in both your assessment notebook and your research notebook\n",
    "\n",
    "# REMEMBER THAT YOU MAY NOT USE BUILT-IN FUNCTIONS FROM OTHER LIBRARIES THAN NUMPY\n",
    "# WHEN IN DOUBT - CODE A FUNCTION IN NUMPY ON YOUR OWN!\n",
    "# EXAMPLE: .rolling().mean() is a built-in function in Pandas, that's why moving average is implemented in NumPy (see module.py)\n",
    "\n",
    "# PLEASE MAKE SURE THAT YOUR SIGNAL FUNCTIONS DO NOT GENERATE\n",
    "# A SELL SIGNAL WHEN THERE WAS NO BUY SIGNAL"
   ]
  },
  {
   "cell_type": "markdown",
   "id": "cc51bad9",
   "metadata": {},
   "source": [
    "Signal 0 is a moving average signal. It is active when the following condition is met in $t$:\n",
    "\n",
    "$\\frac{1}{250}\\sum\\limits^{249}_{i=0}p_{t-i}>\\frac{1}{500}\\sum\\limits^{499}_{i=0}p_{t-i}$"
   ]
  },
  {
   "cell_type": "code",
   "execution_count": 3,
   "id": "93ae2ecc",
   "metadata": {},
   "outputs": [],
   "source": [
    "### SIGNAL 0\n",
    "def signal_0(series):\n",
    "    return module.ma_signal(series, 250, 500)"
   ]
  },
  {
   "cell_type": "markdown",
   "id": "631187ec",
   "metadata": {},
   "source": [
    "Signal 1 is a moving average signal. It is active when the following condition is met in $t$:\n",
    "\n",
    "$\\frac{1}{125}\\sum\\limits^{124}_{i=0}p_{t-i}>\\frac{1}{250}\\sum\\limits^{249}_{i=0}p_{t-i}$"
   ]
  },
  {
   "cell_type": "code",
   "execution_count": 4,
   "id": "618aadfe-34e7-499c-aeaa-b89055f4d468",
   "metadata": {},
   "outputs": [],
   "source": [
    "### SIGNAL 1\n",
    "def signal_1(series):\n",
    "    return module.ma_signal(series, 125, 250)"
   ]
  },
  {
   "cell_type": "markdown",
   "id": "09667e34",
   "metadata": {},
   "source": [
    "Signal 2 is a moving average signal. It is active when the following condition is met in $t$:\n",
    "\n",
    "$\\frac{1}{60}\\sum\\limits^{59}_{i=0}p_{t-i}>\\frac{1}{120}\\sum\\limits^{119}_{i=0}p_{t-i}$"
   ]
  },
  {
   "cell_type": "code",
   "execution_count": 5,
   "id": "42f935ee",
   "metadata": {},
   "outputs": [],
   "source": [
    "### SIGNAL 2\n",
    "def signal_2(series):\n",
    "    return module.ma_signal(series, 60, 120)"
   ]
  },
  {
   "cell_type": "code",
   "execution_count": 3,
   "id": "65aca269-a8fb-4c57-8eea-e6f80b061380",
   "metadata": {},
   "outputs": [],
   "source": [
    "sig0_params = {\n",
    "    'short_ma': 50,\n",
    "    'long_ma': 200,\n",
    "    'short_macd': 12,\n",
    "    'long_macd': 26,\n",
    "    'signal_window_macd': 9\n",
    "}\n",
    "\n",
    "sig1_params = {\n",
    "    'rsi_window_length': 14,\n",
    "    'lower_rsi_bound': 30,\n",
    "    'upper_rsi_bound': 70,\n",
    "    'bollinger_window_length': 14,\n",
    "    'bollinger_n_stds': 1\n",
    "}\n",
    "\n",
    "sig2_params = {\n",
    "    'adx_window_length': 20, \n",
    "    'donchian_window_length': 10}\n",
    "\n",
    "# Compute signals\n",
    "signals = {\n",
    "    tickers[0]: signal01(prices = df_prices[tickers[0]], **sig0_params),\n",
    "    tickers[1]: signal02(prices = df_prices[tickers[1]], **sig1_params),\n",
    "    tickers[2]: signal03(prices = df_prices[tickers[2]], **sig2_params)}\n",
    "df_position_open = pd.concat([\n",
    "    signals[tickers[0]]['signal'].rename(tickers[0]),\n",
    "    signals[tickers[1]]['signal'].rename(tickers[1]),\n",
    "    signals[tickers[2]]['signal'].rename(tickers[2])], axis = 1)\n",
    "df_position_changes = pd.concat([\n",
    "    signals[tickers[0]]['position_change'].rename(tickers[0]),\n",
    "    signals[tickers[1]]['position_change'].rename(tickers[1]),\n",
    "    signals[tickers[2]]['position_change'].rename(tickers[2])], axis = 1)"
   ]
  },
  {
   "cell_type": "code",
   "execution_count": 8,
   "id": "2d150c14",
   "metadata": {},
   "outputs": [],
   "source": [
    "# ALLOCATE CAPITAL AND COMPUTE RESULTING POSITIONS\n",
    "initial_cash = 1.0\n",
    "capital_fraction_per_trade = 1\n",
    "\n",
    "# DO NOT MODIFY THIS CELL BELOW THIS LINE\n",
    "position = []\n",
    "\n",
    "def open_trades(position, position_change):\n",
    "    vec = np.maximum([position_change[ticker] for ticker in tickers[:-1]], [0])\n",
    "    vec = position[-1] * (1 - np.power((1 - capital_fraction_per_trade), np.sum(vec))) * vec / (1 if (np.nansum(vec) == 0.0) else np.nansum(vec))\n",
    "    return np.append(vec + position[:-1], position[-1] - np.sum(vec))\n",
    "\n",
    "def hold_trades(position, price_change):\n",
    "    return np.concatenate((position[:-1] * price_change[:-1], [position[-1]]))\n",
    "\n",
    "def close_trades(position, position_change):\n",
    "    vec = np.concatenate((np.array([position_change[ticker] < 0.0 for ticker in tickers[:-1]]), [False]))\n",
    "    position[-1] = position[-1] + np.sum(position[vec])\n",
    "    position[vec] = 0.0\n",
    "    return position\n",
    "    \n",
    "is_first = True\n",
    "for idx, position_change in df_position_changes.iterrows():\n",
    "    if is_first:\n",
    "        position.append(open_trades(np.concatenate((np.zeros(len(df_position_changes.columns)), [initial_cash])), position_change))\n",
    "        is_first = False\n",
    "    else:\n",
    "        hlpr_pos = hold_trades(position[-1], df_price_changes.loc[[idx]].to_numpy()[0])\n",
    "        hlpr_pos = close_trades(hlpr_pos, position_change)\n",
    "        position.append(open_trades(hlpr_pos, position_change))\n",
    "\n",
    "df_position = pd.DataFrame(position, index = df_prices.index, columns = tickers[:-1] + ['cash'])"
   ]
  },
  {
   "cell_type": "code",
   "execution_count": null,
   "id": "a2de0115-6c17-43f3-9eca-b8a55a79cde9",
   "metadata": {},
   "outputs": [],
   "source": [
    "pd.set_option('display.max_rows', None)\n",
    "print(df_position)"
   ]
  },
  {
   "cell_type": "code",
   "execution_count": null,
   "id": "a0796078-ad63-4060-96f8-a147b8328cf7",
   "metadata": {},
   "outputs": [],
   "source": [
    "plt.figure(figsize=(12, 6))\n",
    "for ticker in tickers:\n",
    "    plt.plot(df_position[ticker], label=f\"{ticker} Position\", alpha=0.8)\n",
    "    plt.plot(df_price_changes[ticker], label=f\"{ticker} Price\", alpha=0.8)\n",
    "plt.xlabel(\"Date\")\n",
    "plt.ylabel(\"Price\")\n",
    "plt.legend()\n",
    "plt.grid(True)\n",
    "plt.tight_layout()\n",
    "plt.show()"
   ]
  },
  {
   "cell_type": "code",
   "execution_count": 8,
   "id": "27bf0eee",
   "metadata": {},
   "outputs": [
    {
     "name": "stdout",
     "output_type": "stream",
     "text": [
      "Annualized mean: 0.05491076744177668\n",
      "Annualized std:  0.06464266644789518\n"
     ]
    }
   ],
   "source": [
    "# COMPUTE MEANINGFUL STATISTICS OF YOUR STRATEGY\n",
    "# YOU ARE FREE TO CHOOSE MEASURES\n",
    "\n",
    "# REMEMBER THAT YOU MAY NOT USE READY-TO-USE FUNCTIONS FROM OTHER LIBRARIES THAN NUMPY\n",
    "# WHEN IN DOUBT - CODE A FUNCTION ON YOUR OWN!\n",
    "# EXAMPLE: .mean() and .std() are ready-to-use, that's why they are implemented using NumPy below\n",
    "\n",
    "returns = df_position.sum(axis=1)\n",
    "returns = (returns[1:].to_numpy() / returns[:-1].to_numpy()) - 1\n",
    "mean_returns = np.sum(returns) / len(returns)\n",
    "std_returns = np.sqrt(np.sum(np.square(returns - mean_returns)) / len(returns))\n",
    "print('Annualized mean: ' + str(mean_returns * 250))\n",
    "print('Annualized std:  ' + str(std_returns * np.sqrt(250)))"
   ]
  },
  {
   "cell_type": "code",
   "execution_count": 10,
   "id": "2760e381",
   "metadata": {},
   "outputs": [
    {
     "data": {
      "text/plain": [
       "<Axes: xlabel='Date'>"
      ]
     },
     "execution_count": 10,
     "metadata": {},
     "output_type": "execute_result"
    },
    {
     "data": {
      "image/png": "[encoded data removed]",
      "text/plain": [
       "<Figure size 640x480 with 1 Axes>"
      ]
     },
     "metadata": {},
     "output_type": "display_data"
    }
   ],
   "source": [
    "# COMPUTE MEANINGFUL PLOTS OF YOUR STRATEGY AND LABEL THEM IN AN UNDERSTANDABLE WAY\n",
    "df_position.sum(axis=1).plot()"
   ]
  },
  {
   "cell_type": "code",
   "execution_count": null,
   "id": "13f53cba-dc70-4dbf-b4e5-e83a813d6dd7",
   "metadata": {},
   "outputs": [],
   "source": []
  }
 ],
 "metadata": {
  "kernelspec": {
   "display_name": "Python 3 (ipykernel)",
   "language": "python",
   "name": "python3"
  },
  "language_info": {
   "codemirror_mode": {
    "name": "ipython",
    "version": 3
   },
   "file_extension": ".py",
   "mimetype": "text/x-python",
   "name": "python",
   "nbconvert_exporter": "python",
   "pygments_lexer": "ipython3",
   "version": "3.11.7"
  }
 },
 "nbformat": 4,
 "nbformat_minor": 5
}
