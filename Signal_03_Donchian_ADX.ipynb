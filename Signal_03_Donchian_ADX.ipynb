{
 "cells": [
  {
   "cell_type": "markdown",
   "id": "fa68669a-7d13-4b6b-9930-f59d6244e81e",
   "metadata": {},
   "source": [
    "Signal 3: Price Breakout with volume confirmation"
   ]
  },
  {
   "cell_type": "code",
   "execution_count": 1,
   "id": "326cf2fb-c55b-49ca-8447-b41a62142fcb",
   "metadata": {},
   "outputs": [],
   "source": [
    "import yfinance as yf\n",
    "import pandas as pd\n",
    "import numpy as np\n",
    "import matplotlib.pyplot as plt\n",
    "from module import *"
   ]
  },
  {
   "cell_type": "code",
   "execution_count": 2,
   "id": "1bf6c0f1-ec03-4076-bd80-958771a42a55",
   "metadata": {},
   "outputs": [
    {
     "name": "stderr",
     "output_type": "stream",
     "text": [
      "[*********************100%***********************]  3 of 3 completed\n"
     ]
    }
   ],
   "source": [
    "tickers = [\"TSLA\", \"AAPL\", \"AMD\"]\n",
    "start = \"2020-01-01\"\n",
    "end = \"2024-01-01\"\n",
    "\n",
    "df_prices, df_changes = download_stock_price_data(tickers, start, end)\n",
    "prices = df_prices[\"TSLA\"]"
   ]
  },
  {
   "cell_type": "code",
   "execution_count": 3,
   "id": "882c7cad-2abd-4d79-beac-b85c45e531dd",
   "metadata": {},
   "outputs": [],
   "source": [
    "def donchian_channel(prices, window_length=20):\n",
    "    \n",
    "    #Initilize\n",
    "    prices = np.asarray(prices)\n",
    "    highs = np.full_like(prices, np.nan, dtype=float)\n",
    "    lows = np.full_like(prices, np.nan, dtype=float)\n",
    "    \n",
    "    for i in range(window_length - 1, len(prices)):\n",
    "        highs[i] = np.max(prices[i - window_length + 1:i + 1])\n",
    "        lows[i] = np.min(prices[i - window_length + 1:i + 1])\n",
    "    \n",
    "    return highs, lows\n",
    "\n",
    "\n",
    "def create_donchian_signals(prices, window_length=20):\n",
    "    \n",
    "    prices = np.asarray(prices)\n",
    "    highs, lows = donchian_channel(prices, window_length)\n",
    "    signals = np.zeros_like(prices, dtype=int)\n",
    "\n",
    "    for i in range(len(prices)):\n",
    "        if np.isnan(highs[i]) or np.isnan(lows[i]):\n",
    "            signals[i] = 0\n",
    "        elif prices[i] > highs[i]:\n",
    "            signals[i] = 1\n",
    "        elif prices[i] < lows[i]:\n",
    "            signals[i] = -1\n",
    "        else:\n",
    "            signals[i] = 0\n",
    "            \n",
    "    return signals"
   ]
  },
  {
   "cell_type": "code",
   "execution_count": 4,
   "id": "337ce13a-16fa-43da-b07f-a2ff03dbc08f",
   "metadata": {},
   "outputs": [],
   "source": [
    "def compute_adx(prices, window):\n",
    "\n",
    "    prices = np.asarray(prices)\n",
    "    \n",
    "    #Infer directional movement\n",
    "    dm_pos = []\n",
    "    dm_neg = []\n",
    "    for i in range(1, len(prices)):\n",
    "        price_diff = prices[i] - prices[i - 1]\n",
    "        if price_diff > 0:\n",
    "            dm_pos.append(price_diff)\n",
    "            dm_neg.append(0)\n",
    "        elif price_diff < 0:\n",
    "            dm_pos.append(0)\n",
    "            dm_neg.append(-price_diff)\n",
    "        else:\n",
    "            dm_pos.append(0)\n",
    "            dm_neg.append(0)\n",
    "\n",
    "    #Compute true ranges \n",
    "    true_ranges = []\n",
    "    for i in range(1, len(prices)):\n",
    "        high_low = prices[i] - prices[i - 1]\n",
    "        high_close = abs(prices[i] - prices[i - 1])\n",
    "        low_close = abs(prices[i] - prices[i - 1])\n",
    "        true_ranges.append(max(high_low, high_close, low_close))\n",
    "\n",
    "    #Wilder's smoothing to create directional index\n",
    "    atr = [np.mean(true_ranges[:window])]\n",
    "    di_pos = [np.mean(dm_pos[:window])]\n",
    "    di_neg = [np.mean(dm_neg[:window])]   \n",
    "    for i in range(window, len(dm_pos)):\n",
    "        atr.append((atr[-1] * (window - 1) + true_ranges[i]) / window)\n",
    "        di_pos.append((di_pos[-1] * (window - 1) + dm_pos[i]) / window)\n",
    "        di_neg.append((di_neg[-1] * (window - 1) + dm_neg[i]) / window)\n",
    "    di_pos = np.array(di_pos)\n",
    "    di_neg = np.array(di_neg)   \n",
    "    dx = np.abs((di_pos - di_neg) / (di_pos + di_neg)) * 100\n",
    "\n",
    "    #Smooth DX to get ADX\n",
    "    adx = np.full(len(prices), 20.0) #Initalize with neutral priyes for the 2* windowlength warmup phase\n",
    "\n",
    "    #Smooth DX to get ADX\n",
    "    adx[window*2-1] = np.mean(dx[:window])\n",
    "    for i in range(window*2, len(dx)):\n",
    "        adx[i] = (adx[i - 1] * (window - 1) + dx[i]) / window\n",
    "        \n",
    "    return adx.flatten()"
   ]
  },
  {
   "cell_type": "code",
   "execution_count": 5,
   "id": "3cec21a0-6efa-41e4-a6b2-3c6467ddb3d6",
   "metadata": {},
   "outputs": [],
   "source": [
    "def signal_03(prices, adx_window_length, donchian_window_length):\n",
    "    \n",
    "    adx = compute_adx(prices, adx_window_length)\n",
    "    docnhian_signal = create_donchian_signals(prices, donchian_window_length)\n",
    "\n",
    "    combined_signal = np.zeros_like(prices)   \n",
    "    buy = (docnhian_signal == 1) | (adx > 25)\n",
    "    sell = (docnhian_signal == -1) & (adx > 25)   \n",
    "    combined_signal[buy] = 1\n",
    "    combined_signal[sell] = -1\n",
    "\n",
    "    return combined_signal   "
   ]
  },
  {
   "cell_type": "code",
   "execution_count": 6,
   "id": "f4551372-704c-4356-b71b-79fb37cba57c",
   "metadata": {},
   "outputs": [
    {
     "name": "stdout",
     "output_type": "stream",
     "text": [
      "TSLA\n",
      "(7.923283969394047, 1.2076778625617541, 0.7169198830361274, 0.03829580478658762)\n",
      "AAPL\n",
      "(3.033462933635219, 1.5545718974279095, 0.24665618356846486, 0.015382922012482708)\n",
      "AMD\n",
      "(9.396755944096588, 1.9081666576819083, 0.5881196730771234, 0.021239855441186575)\n"
     ]
    }
   ],
   "source": [
    "#Do gridsearch for best params\n",
    "param_grid = {\n",
    "    'adx_window_length': np.arange(5, 15),\n",
    "    'donchian_window_length': np.arange(15, 30)}\n",
    "\n",
    "\n",
    "for ticker in tickers:\n",
    "    prices = df_prices[ticker]\n",
    "    best_params, best_score, best_metrics, results = gridsearch_strategy(price=prices, param_grid=param_grid, signal_fn=signal_03, metric='cumret')\n",
    "    print(ticker)\n",
    "    print(best_metrics)"
   ]
  },
  {
   "cell_type": "code",
   "execution_count": 24,
   "id": "ac33a505-f111-42e1-8e4a-36a42b7f019b",
   "metadata": {},
   "outputs": [
    {
     "data": {
      "text/plain": [
       "({'adx_window_length': 5, 'donchian_window_length': 15}, 7.923283969394047)"
      ]
     },
     "execution_count": 24,
     "metadata": {},
     "output_type": "execute_result"
    }
   ],
   "source": [
    "best_params, best_score"
   ]
  },
  {
   "cell_type": "code",
   "execution_count": null,
   "id": "0b77eda1-a082-44e4-a7c0-9f85b2d6bb7b",
   "metadata": {},
   "outputs": [],
   "source": [
    "#Plotting logic here ...."
   ]
  }
 ],
 "metadata": {
  "kernelspec": {
   "display_name": "Python 3 (ipykernel)",
   "language": "python",
   "name": "python3"
  },
  "language_info": {
   "codemirror_mode": {
    "name": "ipython",
    "version": 3
   },
   "file_extension": ".py",
   "mimetype": "text/x-python",
   "name": "python",
   "nbconvert_exporter": "python",
   "pygments_lexer": "ipython3",
   "version": "3.11.7"
  }
 },
 "nbformat": 4,
 "nbformat_minor": 5
}
