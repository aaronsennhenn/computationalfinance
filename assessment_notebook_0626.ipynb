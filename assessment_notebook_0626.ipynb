{
 "cells": [
  {
   "cell_type": "markdown",
   "id": "HCZILlVEcw4A",
   "metadata": {
    "id": "HCZILlVEcw4A"
   },
   "source": [
    "# B404B Modern Issues in Finance: Computational Finance in Python\n",
    "*Submission Date: June 29, 2025*\n",
    "\n",
    "This notebook contains the code and explanations of **group 2** for the assessment in the course **B404B Modern Issues in Finance: Computational Finance in Python**.\n",
    "\n",
    "**Members in Group 2**\n",
    "\n",
    "* Aaron\n",
    "* Liqian Huang\n",
    "* Nino Maisuradze\n",
    "* Xuan Yang\n",
    "\n",
    "\n",
    "**Table of Contents**\n",
    "\n",
    "\n",
    "1. [Data Acquisition](#setup)\n",
    "2. [Definition of Signals](#I)\n",
    "3. [Computation of Signals and Resulting Positions](#II)\n",
    "4. [Statistics of the Strategy](#III)\n",
    "5. [Graphs of Strategy](#IV)\n"
   ]
  },
  {
   "cell_type": "markdown",
   "id": "RK9MgmO4VasT",
   "metadata": {
    "id": "RK9MgmO4VasT"
   },
   "source": [
    "## Data Acquisition\n"
   ]
  },
  {
   "cell_type": "markdown",
   "id": "5uujsNlu3Ems",
   "metadata": {
    "id": "5uujsNlu3Ems"
   },
   "source": []
  },
  {
   "cell_type": "code",
   "execution_count": null,
   "id": "58c86311",
   "metadata": {
    "id": "58c86311"
   },
   "outputs": [],
   "source": [
    "import numpy as np\n",
    "import pandas as pd\n",
    "\n",
    "import matplotlib.pyplot as plt\n",
    "%matplotlib inline\n",
    "\n",
    "import module"
   ]
  },
  {
   "cell_type": "code",
   "execution_count": null,
   "id": "275451ad",
   "metadata": {
    "id": "275451ad"
   },
   "outputs": [],
   "source": [
    "# define tickers of stocks that are to be analyzed\n",
    "tickers = [ \\\n",
    "    'AAPL', # Apple\n",
    "    'MSFT', # Microsoft\n",
    "    'AMZN', # Amazon\n",
    "    '^GSPC'] # S&P500 - Benchmark\n",
    "\n",
    "# define time span of stock price data\n",
    "start_date = '2010-01-01'\n",
    "end_date = '2021-12-31'\n",
    "\n",
    "# download the data\n",
    "df_prices, df_price_changes = module.download_stock_price_data(tickers, start_date, end_date)"
   ]
  },
  {
   "cell_type": "markdown",
   "id": "p_nQgr0PWU97",
   "metadata": {
    "id": "p_nQgr0PWU97"
   },
   "source": [
    "## Definition of Signals <a id=\"I\"></a>\n"
   ]
  },
  {
   "cell_type": "code",
   "execution_count": null,
   "id": "3c56ceb8",
   "metadata": {
    "id": "3c56ceb8"
   },
   "outputs": [],
   "source": [
    "# DEFINE THREE TRADING SIGNALS\n",
    "\n",
    "# DO YOUR RESEARCH IN A SEPARATE NOTEBOOK AND IMPLEMENT THE FINAL SIGNALS IN THE MODULE\n",
    "# PLEASE PROVIDE THE FOLLOWING AS PART OF THE ASSESSMENT:\n",
    "# - provide a reference to the related literature for each trading signal as mentioned below\n",
    "# - provide your SEPARATE RESERACH NOTEBOOK in which you back your trading signals\n",
    "#   and their parameters by empirical research:\n",
    "#   - perform a systematic parameter search / optimization that backs your parameter selection empirically\n",
    "#   - perform extensive in-sample and out-of-sample testing of your trading signals and parameters with respect to\n",
    "#   -- companies / stocks\n",
    "#   -- time horizons\n",
    "#   - there is no example for your research notebook, you're completely free to develop it according to your research\n",
    "# - provide a module.py file to re-use your code in both your assessment notebook and your research notebook\n",
    "\n",
    "# REMEMBER THAT YOU MAY NOT USE BUILT-IN FUNCTIONS FROM OTHER LIBRARIES THAN NUMPY\n",
    "# WHEN IN DOUBT - CODE A FUNCTION IN NUMPY ON YOUR OWN!\n",
    "# EXAMPLE: .rolling().mean() is a built-in function in Pandas, that's why moving average is implemented in NumPy (see module.py)\n",
    "\n",
    "# PLEASE MAKE SURE THAT YOUR SIGNAL FUNCTIONS DO NOT GENERATE\n",
    "# A SELL SIGNAL WHEN THERE WAS NO BUY SIGNAL"
   ]
  },
  {
   "cell_type": "markdown",
   "id": "_8-dJ5SRVoaD",
   "metadata": {
    "id": "_8-dJ5SRVoaD"
   },
   "source": [
    "This section details the construction and rationale behind the three composite trading signals employed in our strategy. Each signal is meticulously designed to capitalize on specific market phenomena by integrating distinct categories of technical indicators. This approach aims to enhance signal robustness, mitigate false positives, and ultimately contribute to maximizing risk-adjusted returns. For each composite signal, we elucidate its core idea, define its constituent sub-signals, provide the specific mathematical formulations of the underlying indicators, and present the strategy rationales and advantages."
   ]
  },
  {
   "cell_type": "markdown",
   "id": "S1EyUh79WMPj",
   "metadata": {
    "id": "S1EyUh79WMPj",
    "jp-MarkdownHeadingCollapsed": true
   },
   "source": [
    "### Signal 0: Trend-Following with Momentum\n"
   ]
  },
  {
   "cell_type": "markdown",
   "id": "cc51bad9",
   "metadata": {
    "id": "cc51bad9"
   },
   "source": [
    "This strategy combines a long-term trend filter (Dual SMA Crossover) with a mid-term momentum trigger (MACD) to identify high-probability, trend-aligned trades.\n"
   ]
  },
  {
   "cell_type": "markdown",
   "id": "YN56ucuMX2Tw",
   "metadata": {
    "id": "YN56ucuMX2Tw"
   },
   "source": [
    "#### Long-Term Trend Filter: Dual Moving Average (SMA) Crossover\n"
   ]
  },
  {
   "cell_type": "markdown",
   "id": "gfwf1N_VUfkr",
   "metadata": {
    "id": "gfwf1N_VUfkr"
   },
   "source": [
    "This sub-signal establishes the primary market direction.\n",
    "\n",
    "* **Indicator:** 50-day & 200-day Simple Moving Averages (SMA).\n",
    "* **Logic:**\n",
    "  * **Bullish Trend:** SMA50 > SMA200\n",
    "  * **Bearish Trend:** SMA50 < SMA200\n",
    "* **Formula:**\n",
    "  > $$\\text{SMA}_N(t) = \\frac{1}{N} \\sum_{i=0}^{N-1} P_{t-i}$$\n",
    "* **Rationale:** Acts as a robust filter to ensure trades are only considered in the direction of the dominant market trend, effectively reducing counter-trend risk.\n"
   ]
  },
  {
   "cell_type": "markdown",
   "id": "VsL28sFlX2Z5",
   "metadata": {
    "id": "VsL28sFlX2Z5"
   },
   "source": [
    "#### Mid-Term Momentum Trigger: MACD"
   ]
  },
  {
   "cell_type": "markdown",
   "id": "7eNc10XGUjp0",
   "metadata": {
    "id": "7eNc10XGUjp0"
   },
   "source": [
    "This sub-signal provides the precise timing for entry and exit.\n",
    "\n",
    "* **Indicator:** Moving Average Convergence Divergence (MACD) with standard (12, 26, 9) parameters.\n",
    "* **Logic:**\n",
    "  * **Buy Trigger:** MACD Line crosses **above** Signal Line.\n",
    "  * **Sell Trigger:** MACD Line crosses **below** Signal Line.\n",
    "* **Core Formulas:**\n",
    "  > $$\\text{MACD Line} = \\text{EMA}_{12}(P_t) - \\text{EMA}_{26}(P_t)$$\n",
    "  > $$\\text{Signal Line} = \\text{EMA}_{9}(\\text{MACD Line})$$\n",
    "* **Rationale:** Pinpoints actionable shifts in momentum, serving as the confirmation needed to execute a trade within the established long-term trend.\n"
   ]
  },
  {
   "cell_type": "markdown",
   "id": "YStKnxHOX5dU",
   "metadata": {
    "id": "YStKnxHOX5dU"
   },
   "source": [
    "#### Construct the signal"
   ]
  },
  {
   "cell_type": "markdown",
   "id": "QTkVsfj5UoJm",
   "metadata": {
    "id": "QTkVsfj5UoJm"
   },
   "source": [
    "The final trading decision is based on the synergy of both sub-signals.\n",
    "\n",
    "* **BUY Signal:** (SMA50 > SMA200) **AND** (MACD Line crosses above Signal Line)\n",
    "* **SELL Signal:** (SMA50 < SMA200) **AND** (MACD Line crosses below Signal Line)\n",
    "* **HOLD:** All other conditions.\n"
   ]
  },
  {
   "cell_type": "markdown",
   "id": "WPPOx7A4UtA1",
   "metadata": {
    "id": "WPPOx7A4UtA1"
   },
   "source": [
    "**Key Advantages**\n",
    "\n",
    "* **Reduces Whipsaws:** The trend filter effectively ignores false momentum signals that occur against the primary market direction.\n",
    "* **Improves Signal Quality:** By demanding both trend alignment and momentum confirmation, the strategy focuses only on high-conviction trades, aiming for a higher win rate."
   ]
  },
  {
   "cell_type": "code",
   "execution_count": null,
   "id": "93ae2ecc",
   "metadata": {
    "id": "93ae2ecc"
   },
   "outputs": [],
   "source": [
    "### SIGNAL 0\n",
    "def signal_0(series):\n",
    "    return module.ma_signal(series, 250, 500)"
   ]
  },
  {
   "cell_type": "markdown",
   "id": "ZPPngojhYoBN",
   "metadata": {
    "id": "ZPPngojhYoBN"
   },
   "source": [
    "### Signal 1: Mean Reversion & Volatility"
   ]
  },
  {
   "cell_type": "markdown",
   "id": "631187ec",
   "metadata": {
    "id": "631187ec"
   },
   "source": [
    "This strategy aims to capture mean-reversion bounces from oversold conditions, using volatility stabilization as a confirmation to avoid \"catching a falling knife.\"\n"
   ]
  },
  {
   "cell_type": "markdown",
   "id": "KkL6QQW1Yqjf",
   "metadata": {
    "id": "KkL6QQW1Yqjf"
   },
   "source": [
    "#### Oversold Identifier: Relative Strength Index (RSI)"
   ]
  },
  {
   "cell_type": "markdown",
   "id": "Rbg0hHcpiEMk",
   "metadata": {
    "id": "Rbg0hHcpiEMk"
   },
   "source": [
    "This sub-signal identifies when an asset's price has moved to an extreme, suggesting a potential reversal.\n",
    "\n",
    "* **Indicator:** 14-day Relative Strength Index (RSI).\n",
    "* **Logic:**\n",
    "  * **Oversold Zone:** RSI < 30\n",
    "  * **Overbought Zone:** RSI > 70\n",
    "* **Core Formula:**\n",
    "  > $$\\text{RSI} = 100 - \\frac{100}{1 + \\text{RS}}, \\quad \\text{where RS} = \\frac{\\text{Average Gain}}{\\text{Average Loss}}$$\n",
    "* **Rationale:** Operates on the principle of mean reversion, where extreme price movements away from the average are statistically likely to correct.\n"
   ]
  },
  {
   "cell_type": "markdown",
   "id": "rH0_N-t1Yqo3",
   "metadata": {
    "id": "rH0_N-t1Yqo3"
   },
   "source": [
    "#### Stabilization Trigger: Bollinger Bands\n"
   ]
  },
  {
   "cell_type": "markdown",
   "id": "Q1rCtMw6iNs5",
   "metadata": {
    "id": "Q1rCtMw6iNs5"
   },
   "source": [
    "This sub-signal confirms that extreme price pressure is subsiding before a trade is placed.\n",
    "\n",
    "* **Indicator:** Bollinger Bands (20-day SMA, 2 Standard Deviations).\n",
    "* **Logic:**\n",
    "  * **Buy Trigger:** Price crosses back **above** the Lower Band after trading below it.\n",
    "  * **Sell Trigger:** Price crosses back **below** the Upper Band after trading above it.\n",
    "* **Core Formula:**\n",
    "  > $$\\text{Upper/Lower Band} = \\text{SMA}_{20}(P_t) \\pm 2 \\times \\text{StdDev}_{20}(P_t)$$\n",
    "* **Rationale:** Provides confirmation that volatility is stabilizing and the intense selling (or buying) pressure has momentarily paused, offering a safer entry point.\n"
   ]
  },
  {
   "cell_type": "markdown",
   "id": "j4mFlImIYqu4",
   "metadata": {
    "id": "j4mFlImIYqu4"
   },
   "source": [
    "#### Combined Signal Rule"
   ]
  },
  {
   "cell_type": "markdown",
   "id": "OKW1AiiniRi-",
   "metadata": {
    "id": "OKW1AiiniRi-"
   },
   "source": [
    "The final trading decision requires both an extreme condition and a stabilization signal.\n",
    "\n",
    "* **BUY Signal:** (RSI < 30) **AND** (Price crosses back above Lower Bollinger Band)\n",
    "* **SELL Signal:** (RSI > 70) **AND** (Price crosses back below Upper Bollinger Band)\n",
    "\n",
    "\n",
    "\n",
    "**Key Advantages**\n",
    "\n",
    "* **Avoids \"Catching a Falling Knife\":** The Bollinger Band trigger acts as a safety check, preventing buys into an asset that is still in a strong downtrend, even if the RSI is low.\n",
    "* **Built-in Volatility Management:** By waiting for price to re-enter the bands, the strategy inherently avoids trading during the most chaotic phases of a price move, making it suitable for volatile assets."
   ]
  },
  {
   "cell_type": "code",
   "execution_count": null,
   "id": "618aadfe-34e7-499c-aeaa-b89055f4d468",
   "metadata": {
    "id": "618aadfe-34e7-499c-aeaa-b89055f4d468"
   },
   "outputs": [],
   "source": [
    "### SIGNAL 1\n",
    "def signal_1(series):\n",
    "    return module.ma_signal(series, 125, 250)"
   ]
  },
  {
   "cell_type": "markdown",
   "id": "7qhYV9qJYdxM",
   "metadata": {
    "id": "7qhYV9qJYdxM"
   },
   "source": [
    "### Signal 2: Breakout & Trend Strength\n"
   ]
  },
  {
   "cell_type": "markdown",
   "id": "09667e34",
   "metadata": {
    "id": "09667e34"
   },
   "source": [
    "This strategy aims to capture the beginning of new, powerful trends by confirming price breakouts with a measure of underlying trend strength, filtering out false signals.\n"
   ]
  },
  {
   "cell_type": "markdown",
   "id": "5K1cv8h1Y-CF",
   "metadata": {
    "id": "5K1cv8h1Y-CF"
   },
   "source": [
    "#### Breakout Trigger: Donchian Channel\n",
    "\n",
    "This sub-signal provides the initial trigger when price moves beyond its recent range.\n",
    "\n",
    "* **Indicator:** 20-day Donchian Channel.\n",
    "* **Logic:**\n",
    "  * **Buy Trigger:** Price closes **above** the Upper Channel Band (a new 20-day high).\n",
    "  * **Sell Trigger:** Price closes **below** the Lower Channel Band (a new 20-day low).\n",
    "* **Core Formula:**\n",
    "  > $$\\text{Upper Band} = \\text{Highest High over past 20 periods}$$\n",
    "  > $$\\text{Lower Band} = \\text{Lowest Low over past 20 periods}$$\n",
    "* **Rationale:** Provides a clear, objective signal that price has broken out of its recent trading range, indicating a potential new trend.\n"
   ]
  },
  {
   "cell_type": "markdown",
   "id": "3OflRJFvY-Ij",
   "metadata": {
    "id": "3OflRJFvY-Ij"
   },
   "source": [
    "#### Trend Strength Confirmation: ADX\n",
    "\n",
    "This sub-signal validates the conviction behind the breakout.\n",
    "\n",
    "* **Indicator:** 14-period Average Directional Index (ADX).\n",
    "* **Logic:**\n",
    "  * **Strong Trend:** ADX > 25\n",
    "  * **Weak / No Trend:** ADX < 25\n",
    "* **Core Concept:**\n",
    "  > ADX is derived from smoothed measures of positive (+DI) and negative (-DI) directional movement. It does not indicate direction, only strength.\n",
    "* **Rationale:** Measures the *strength* of a trend, regardless of whether it is bullish or bearish. It acts as a critical filter to confirm a breakout has genuine force behind it.\n"
   ]
  },
  {
   "cell_type": "markdown",
   "id": "CcvhcCJ4Y-M9",
   "metadata": {
    "id": "CcvhcCJ4Y-M9"
   },
   "source": [
    "#### Combined Signal Rule"
   ]
  },
  {
   "cell_type": "markdown",
   "id": "qxw1UOgrjLE6",
   "metadata": {
    "id": "qxw1UOgrjLE6"
   },
   "source": [
    "The final trading decision requires both a breakout and confirmed trend strength.\n",
    "\n",
    "* **BUY Signal:** (Price breaks above Upper Donchian Channel) **AND** (ADX > 25)\n",
    "* **SELL Signal:** (Price breaks below Lower Donchian Channel) **AND** (ADX > 25)\n",
    "\n",
    "**Key Advantages**\n",
    "\n",
    "* **Filters \"Fakeouts\":** The ADX requirement helps distinguish genuine, powerful breakouts from low-conviction moves that are likely to fail and reverse.\n",
    "* **Captures Early Trend Initiation:** Designed to enter at the beginning of major, sustainable moves, aiming to maximize profit from the entirety of a new trend."
   ]
  },
  {
   "cell_type": "code",
   "execution_count": null,
   "id": "42f935ee",
   "metadata": {
    "id": "42f935ee"
   },
   "outputs": [],
   "source": [
    "### SIGNAL 2\n",
    "def signal_2(series):\n",
    "    return module.ma_signal(series, 60, 120)"
   ]
  },
  {
   "cell_type": "markdown",
   "id": "8H3HY9QXZnJ0",
   "metadata": {
    "id": "8H3HY9QXZnJ0",
    "jp-MarkdownHeadingCollapsed": true
   },
   "source": [
    "## Computation of Signals and Resulting Positions"
   ]
  },
  {
   "cell_type": "code",
   "execution_count": null,
   "id": "288773e3",
   "metadata": {
    "id": "288773e3"
   },
   "outputs": [],
   "source": [
    "# Compute signals\n",
    "signals = {\n",
    "    tickers[0]: signal_0(df_prices[tickers[0]]),\n",
    "    tickers[1]: signal_1(df_prices[tickers[1]]),\n",
    "    tickers[2]: signal_2(df_prices[tickers[2]])}\n",
    "df_position_open = pd.concat([\n",
    "    signals[tickers[0]]['signal'].rename(tickers[0]),\n",
    "    signals[tickers[1]]['signal'].rename(tickers[1]),\n",
    "    signals[tickers[2]]['signal'].rename(tickers[2])], axis = 1)\n",
    "df_position_changes = pd.concat([\n",
    "    signals[tickers[0]]['position_change'].rename(tickers[0]),\n",
    "    signals[tickers[1]]['position_change'].rename(tickers[1]),\n",
    "    signals[tickers[2]]['position_change'].rename(tickers[2])], axis = 1)"
   ]
  },
  {
   "cell_type": "code",
   "execution_count": null,
   "id": "2d150c14",
   "metadata": {
    "id": "2d150c14"
   },
   "outputs": [],
   "source": [
    "# ALLOCATE CAPITAL AND COMPUTE RESULTING POSITIONS\n",
    "initial_cash = 1.0\n",
    "capital_fraction_per_trade = 0.2\n",
    "\n",
    "# DO NOT MODIFY THIS CELL BELOW THIS LINE\n",
    "position = []\n",
    "\n",
    "def open_trades(position, position_change):\n",
    "    vec = np.maximum([position_change[ticker] for ticker in tickers[:-1]], [0])\n",
    "    vec = position[-1] * (1 - np.power((1 - capital_fraction_per_trade), np.sum(vec))) * vec / (1 if (np.nansum(vec) == 0.0) else np.nansum(vec))\n",
    "    return np.append(vec + position[:-1], position[-1] - np.sum(vec))\n",
    "\n",
    "def hold_trades(position, price_change):\n",
    "    return np.concatenate((position[:-1] * price_change[:-1], [position[-1]]))\n",
    "\n",
    "def close_trades(position, position_change):\n",
    "    vec = np.concatenate((np.array([position_change[ticker] < 0.0 for ticker in tickers[:-1]]), [False]))\n",
    "    position[-1] = position[-1] + np.sum(position[vec])\n",
    "    position[vec] = 0.0\n",
    "    return position\n",
    "\n",
    "is_first = True\n",
    "for idx, position_change in df_position_changes.iterrows():\n",
    "    if is_first:\n",
    "        position.append(open_trades(np.concatenate((np.zeros(len(df_position_changes.columns)), [initial_cash])), position_change))\n",
    "        is_first = False\n",
    "    else:\n",
    "        hlpr_pos = hold_trades(position[-1], df_price_changes.loc[[idx]].to_numpy()[0])\n",
    "        hlpr_pos = close_trades(hlpr_pos, position_change)\n",
    "        position.append(open_trades(hlpr_pos, position_change))\n",
    "\n",
    "df_position = pd.DataFrame(position, index = df_prices.index, columns = tickers[:-1] + ['cash'])"
   ]
  },
  {
   "cell_type": "markdown",
   "id": "xQRPitHvZyaK",
   "metadata": {
    "id": "xQRPitHvZyaK"
   },
   "source": [
    "## Statistics of the Strategy"
   ]
  },
  {
   "cell_type": "markdown",
   "id": "7NaJXxcvhuYf",
   "metadata": {
    "id": "7NaJXxcvhuYf"
   },
   "source": [
    "Here we define the key (mostly risk-adjusted) performance measures used to evaluate the strategy.\n",
    "\n",
    "#### **Symbol Definitions (符号定义)**\n",
    "\n",
    "* $R_p$: Portfolio Return (投资组合回报率)\n",
    "* $R_f$: Risk-Free Rate (无风险利率)\n",
    "* $R_M$: Market / Benchmark Return (市场或基准回报率)\n",
    "* $\\beta_p$: Portfolio Beta (投资组合的贝塔系数, 系统性风险)\n",
    "* $\\sigma_p$: Standard Deviation of portfolio returns (投资组合回报率的标准差, 总风险)\n",
    "* $\\sigma_d$: Standard Deviation of downside returns (下行标准差, 下行风险)\n",
    "* $\\sigma_{pm}$: Tracking Error, the standard deviation of the difference between portfolio and market returns, i.e., $StdDev(R_p - R_M)$.\n",
    "* $\\text{MaxDD}$: Maximum Drawdown (最大回撤)\n",
    "\n",
    "\n",
    "\n",
    "#### **1. Core Risk-Adjusted Return Ratios**\n",
    "*This group of ratios measures the return generated per unit of risk taken. It measures the \"bang for your buck\": for each unit of risk taken, how much return is generated?*\n",
    "\n",
    "* **Sharpe Ratio**: Measures the excess return of an investment per unit of its total volatility (standard deviation).\n",
    "Answers the question: \"For every unit of total risk (both good and bad volatility) I take, how much excess return do I get back?\" It is the most common measure of an investment's \"bang for your buck\".\n",
    " > $\\text{Sharpe Ratio} = \\frac{R_p - R_f}{\\sigma_p}$\n",
    "\n",
    "* **Sortino Ratio**: A \"smarter\" variation of the Sharpe Ratio that measures excess return per unit of downside risk (harmful volatility).\n",
    "It only considers \"bad\" risk (when prices go down), answering: \"For every unit of *losing* risk I take, how much reward am I getting?\"\n",
    " > $\\text{Sortino Ratio} = \\frac{R_p - R_f}{\\sigma_d}$\n",
    "\n",
    "* **Treynor Ratio**: Measures the excess return earned per unit of systematic risk, as defined by beta (β).\n",
    "It answers: \"For every unit of market risk I took on, how much reward did I get?\" This is especially useful for judging a single stock within a diversified portfolio.\n",
    "\n",
    " > $\\text{Treynor Ratio} = \\frac{R_p - R_f}{\\beta_p}$\n",
    "\n",
    "\n",
    "\n",
    "#### **2. Performance Relative to a Benchmark**\n",
    "*This group measures the strategy's ability to outperform a given market benchmark, assessing manager skill. It measures \"true skill\": is the strategy's success due to luck or genuine expertise?*\n",
    "\n",
    "\n",
    "* **Jensen's Alpha (α)**: Measures the portfolio's abnormal return over the theoretical expected return predicted by the Capital Asset Pricing Model (CAPM). This is the measure of a manager's or strategy's \"true skill\". It calculates the return earned above and beyond what was expected, given the market's performance and the risk taken. A positive Alpha suggests genuine skill.\n",
    "\n",
    " > $\\alpha_J = R_p - [R_f + \\beta_p(R_M - R_f)]$\n",
    "\n",
    "* **Information Ratio (IR)**: Measures the *consistency* of a portfolio's excess returns over a benchmark relative to the volatility of those returns (tracking error). It asks: \"How consistently does my strategy beat the benchmark, and is that outperformance smooth or erratic?\" A high IR indicates that the ability to outperform is reliable.\n",
    "\n",
    " > $\\text{Information Ratio} = \\frac{R_p - R_M}{\\sigma_{pm}}$\n",
    "\n",
    "\n",
    "\n",
    "#### **3. Risk & Drawdown-Based Measures**\n",
    "*This group focuses on performance during adverse periods and quantifies potential losses. It focuses on \"resilience\": how does the strategy perform under stress and during its worst periods?*\n",
    "*\n",
    "\n",
    "* **Value-at-Risk (VaR)**: A statistical measure that estimates the maximum potential loss over a specific time frame for a given confidence level. It's the \"sleep-at-night\" number. It answers a simple question: \"What is the most I can expect to lose over a given period (e.g., one day) with 95% confidence?\" It is a key metric for risk management.\n",
    "\n",
    "\n",
    " > *Note: VaR is a direct risk value, not a ratio calculated from the symbols above.*\n",
    "\n",
    "* **Calmar Ratio**: Measures risk-adjusted return by dividing the annualized rate of return by the absolute value of the portfolio's maximum drawdown. It's a \"pain vs. gain\" ratio popular with professional traders. It compares the annual return to the worst loss (maximum drawdown) the strategy ever experienced. A high Calmar ratio means the strategy recovers well from its worst periods.\n",
    "\n",
    " > $\\text{Calmar Ratio} = \\frac{R_p}{\\vert\\text{MaxDD}\\vert}$\n",
    "\n",
    "\n",
    "\n",
    "#### **4. Ratios for Easier Interpretation**\n",
    "*This metric adjusts performance to make it more directly comparable with a benchmark.*\n",
    "\n",
    "* **Modigliani Ratio (M² Ratio)**: An \"apples-to-apples\" comparison tool. It adjusts the portfolio's risk to be exactly the same as a benchmark's, then shows what the portfolio's return *would have been*. This makes it incredibly easy to see if we truly beat the market on a risk-adjusted basis.\n",
    "\n",
    " > $M^2 = (\\frac{R_p - R_f}{\\sigma_p}) \\cdot \\sigma_M + R_f$"
   ]
  },
  {
   "cell_type": "code",
   "execution_count": null,
   "id": "27bf0eee",
   "metadata": {
    "id": "27bf0eee"
   },
   "outputs": [],
   "source": [
    "# COMPUTE MEANINGFUL STATISTICS OF YOUR STRATEGY\n",
    "# YOU ARE FREE TO CHOOSE MEASURES\n",
    "\n",
    "# REMEMBER THAT YOU MAY NOT USE READY-TO-USE FUNCTIONS FROM OTHER LIBRARIES THAN NUMPY\n",
    "# WHEN IN DOUBT - CODE A FUNCTION ON YOUR OWN!\n",
    "# EXAMPLE: .mean() and .std() are ready-to-use, that's why they are implemented using NumPy below\n",
    "\n",
    "returns = df_position.sum(axis=1)\n",
    "returns = (returns[1:].to_numpy() / returns[:-1].to_numpy()) - 1\n",
    "mean_returns = np.sum(returns) / len(returns)\n",
    "std_returns = np.sqrt(np.sum(np.square(returns - mean_returns)) / len(returns))\n",
    "print('Annualized mean: ' + str(mean_returns * 250))\n",
    "print('Annualized std:  ' + str(std_returns * np.sqrt(250)))"
   ]
  },
  {
   "cell_type": "markdown",
   "id": "4_utknU2aWz8",
   "metadata": {
    "id": "4_utknU2aWz8"
   },
   "source": [
    "## Graphs of Strategy"
   ]
  },
  {
   "cell_type": "code",
   "execution_count": null,
   "id": "2760e381",
   "metadata": {
    "id": "2760e381"
   },
   "outputs": [],
   "source": [
    "# COMPUTE MEANINGFUL PLOTS OF YOUR STRATEGY AND LABEL THEM IN AN UNDERSTANDABLE WAY\n",
    "df_position.sum(axis=1).plot()"
   ]
  },
  {
   "cell_type": "code",
   "execution_count": null,
   "id": "a1a69125-563d-4e20-86ff-cae226d5956d",
   "metadata": {
    "id": "a1a69125-563d-4e20-86ff-cae226d5956d"
   },
   "outputs": [],
   "source": []
  }
 ],
 "metadata": {
  "colab": {
   "provenance": []
  },
  "kernelspec": {
   "display_name": "Python 3 (ipykernel)",
   "language": "python",
   "name": "python3"
  },
  "language_info": {
   "codemirror_mode": {
    "name": "ipython",
    "version": 3
   },
   "file_extension": ".py",
   "mimetype": "text/x-python",
   "name": "python",
   "nbconvert_exporter": "python",
   "pygments_lexer": "ipython3",
   "version": "3.11.7"
  }
 },
 "nbformat": 4,
 "nbformat_minor": 5
}
